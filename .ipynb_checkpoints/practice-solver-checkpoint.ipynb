{
 "cells": [
  {
   "cell_type": "code",
   "execution_count": 1,
   "metadata": {
    "collapsed": true
   },
   "outputs": [],
   "source": [
    "import numpy as np\n",
    "import sympy as sym\n",
    "import scipy.optimize as opt\n",
    "import matplotlib.pyplot as plt\n",
    "%matplotlib inline"
   ]
  },
  {
   "cell_type": "code",
   "execution_count": 2,
   "metadata": {
    "collapsed": true
   },
   "outputs": [],
   "source": [
    "### Physical constants\n",
    "\n",
    "G = 6.674e-8\n",
    "\n",
    "\n",
    "### System parameters\n",
    "\n",
    "# mass\n",
    "M1 = 1.989e33\n",
    "# location\n",
    "r_M1 = np.array([0.,0.,0.])\n",
    "\n",
    "M2 = 0.36*M1\n",
    "r_M2 = np.array([-3.2e13,0.,0.])"
   ]
  },
  {
   "cell_type": "code",
   "execution_count": 3,
   "metadata": {
    "collapsed": true
   },
   "outputs": [],
   "source": [
    "# dist() finds distance between two vector coordinates\n",
    "\n",
    "def dist(u_1, u_2):\n",
    "    \n",
    "    disp = u_2 - u_1\n",
    "    \n",
    "    return np.sqrt(np.dot( disp, disp ))"
   ]
  },
  {
   "cell_type": "code",
   "execution_count": 10,
   "metadata": {
    "collapsed": true
   },
   "outputs": [],
   "source": [
    "# func() finds time-derivatives of u.\n",
    "\n",
    "def func (t, u_old):\n",
    "    \n",
    "    # local variables\n",
    "    \n",
    "    r = u_old[:3]\n",
    "    v = u_old[3:]\n",
    "    \n",
    "    f = np.zeros_like(u_old)\n",
    "    \n",
    "    # getting distances to mass M\n",
    "    \n",
    "    d1 = dist( r , r_M1 )\n",
    "    \n",
    "    d2 = dist( r , r_M2 )\n",
    "    \n",
    "    # getting acceleration of gravity due to mass M\n",
    "    \n",
    "    omega = np.array([0., 0., G*np.sqrt( M1+M2 ) / np.sqrt(np.abs( r_M1[0]-r_M2[0] )**3) ])\n",
    "    \n",
    "    a = -G*M1*(r - r_M1)/(d1**3) - G*M2*(r - r_M2)/(d2**3) + (omega[-1]**2)*r - 2*np.cross(omega, v)\n",
    "    \n",
    "    # setting time-derivatives of u\n",
    "    \n",
    "    f[:3] = v\n",
    "    f[3:] = a\n",
    "    \n",
    "    return f"
   ]
  },
  {
   "cell_type": "markdown",
   "metadata": {},
   "source": [
    "### RK4 solver"
   ]
  },
  {
   "cell_type": "code",
   "execution_count": 11,
   "metadata": {
    "collapsed": true
   },
   "outputs": [],
   "source": [
    "# rk4() computes u_new from u_old, f=(dy/dx)_0 , and h=x1-x0.\n",
    "\n",
    "def rk4 (t, u_old, u_scale):\n",
    "    \n",
    "    # set adaptive timestep using length scale\n",
    "    \n",
    "    dt_scale = np.abs( u_scale / func(t, u_old) )\n",
    "    \n",
    "    # set timestep to minimum length scale\n",
    "    \n",
    "    dt = np.min( dt_scale[:2] )\n",
    "    \n",
    "    # set k-values\n",
    "    \n",
    "    k1 = func(t, u_old)\n",
    "    k2 = func(t + dt/2, u_old + k1/2)\n",
    "    k3 = func(t + dt/2, u_old + k2/2)\n",
    "    k4 = func(t + dt, u_old + k3)\n",
    "    \n",
    "    # integrate u = u_old forward by dt to u = u_new\n",
    "    \n",
    "    u_new = u_old + (dt/6)*(k1 + 2*k2 + 2*k3 + k4)\n",
    "    \n",
    "    return dt, u_new"
   ]
  },
  {
   "cell_type": "code",
   "execution_count": 12,
   "metadata": {
    "collapsed": true
   },
   "outputs": [],
   "source": [
    "# soln() integrates u from t_a to t_b using rk4().\n",
    "\n",
    "def soln (u_a, t_a, t_b, array=False):\n",
    "    \n",
    "    # call init()\n",
    "    \n",
    "    t = t_a\n",
    "    t_ = np.array([t_a])\n",
    "    \n",
    "    u_old = u_a\n",
    "    u_ = np.array([u_old])\n",
    "    \n",
    "    while t <= t_b:\n",
    "        \n",
    "        # call rk4()\n",
    "        dt, u_new = rk4( t, u_old, u_scale )\n",
    "        \n",
    "        t += dt\n",
    "        u_old = u_new\n",
    "        \n",
    "        t_ = np.append( t_, t )\n",
    "        u_ = np.append( u_, u_old )\n",
    "        \n",
    "    if array==True:\n",
    "        \n",
    "        return t_, u_\n",
    "        \n",
    "    return t, u_old"
   ]
  },
  {
   "cell_type": "code",
   "execution_count": 13,
   "metadata": {},
   "outputs": [
    {
     "name": "stderr",
     "output_type": "stream",
     "text": [
      "/Users/TARS/anaconda3/lib/python3.6/site-packages/ipykernel_launcher.py:7: RuntimeWarning: divide by zero encountered in true_divide\n",
      "  import sys\n"
     ]
    }
   ],
   "source": [
    "### Particle initialization\n",
    "\n",
    "# position\n",
    "r_a = np.array([-1.5e13,0.,0.])\n",
    "\n",
    "# velocity\n",
    "v_a = np.array([1.0e6,-3e6,0.])\n",
    "\n",
    "# coordinates\n",
    "u_a = np.concatenate((r_a,v_a))\n",
    "t_a = 0.\n",
    "t_b = 3*3.16e7\n",
    "\n",
    "# scale\n",
    "u_scale = 1.0e-3*r_a[0]*np.ones_like(u_a)\n",
    "\n",
    "\n",
    "### Solution vectors\n",
    "\n",
    "t_, u_ = soln(u_a, t_a, t_b, array=True)\n",
    "\n",
    "x_, y_, z_ = u_[::6], u_[1::6], u_[2::6]\n",
    "\n",
    "vx_, vy_, vz_ = u_[3::6], u_[4::6], u_[5::6]\n",
    "\n",
    "r_ = [dist( np.array([x_[i],y_[i]]), 0 ) for i in range(len(x_))]"
   ]
  },
  {
   "cell_type": "code",
   "execution_count": 14,
   "metadata": {
    "scrolled": true
   },
   "outputs": [
    {
     "data": {
      "image/png": "[encoded data removed]",
      "text/plain": [
       "<matplotlib.figure.Figure at 0x15198f25f8>"
      ]
     },
     "metadata": {},
     "output_type": "display_data"
    }
   ],
   "source": [
    "fig, ax = plt.subplots(1,2, figsize=(9, 4), dpi=100)\n",
    "\n",
    "ax[0].plot(x_, y_, lw=0.5)\n",
    "ax[0].scatter(x_[-1],y_[-1], s=100, marker='+', c='cornflowerblue')\n",
    "\n",
    "ax[0].scatter(r_M1[0],0, s=100, marker='*', c='limegreen')\n",
    "ax[0].scatter(r_M2[0],0, s=100, marker='*', c='orange')\n",
    "\n",
    "ax[0].set_xlabel('x [cm]')\n",
    "ax[0].set_ylabel('y [cm]')\n",
    "ax[0].set_aspect('equal')\n",
    "\n",
    "ax[0].set_title(r\"Earth's trajectory if we had 2 suns\", y=1.08)\n",
    "\n",
    "\n",
    "ax[1].plot(t_, r_, lw=0.5)\n",
    "ax[1].scatter(t_[-1],r_[-1], s=100, marker='+', c='cornflowerblue')\n",
    "\n",
    "ax[1].plot(t_, np.zeros_like(r_), lw=0.5)\n",
    "ax[1].scatter(t_[-1],0, s=100, marker='*', c='limegreen')\n",
    "\n",
    "ax[1].set_xlabel('t [s]')\n",
    "ax[1].set_ylabel('r [cm]')\n",
    "#ax[0].set_aspect('equal')\n",
    "\n",
    "ax[1].set_title(r\"Distance from 1 Msun mass over time\", y=1.08)\n",
    "\n",
    "\n",
    "fig.savefig('earth_binary.png')"
   ]
  },
  {
   "cell_type": "markdown",
   "metadata": {},
   "source": [
    "### Euler solver"
   ]
  },
  {
   "cell_type": "code",
   "execution_count": 518,
   "metadata": {
    "collapsed": true
   },
   "outputs": [],
   "source": [
    "# euler() computes y1 from y0, f=(dy/dx)_0 , and h=x1-x0.\n",
    "\n",
    "def euler (t, u_old, u_scale):\n",
    "    \n",
    "    # set adaptive timestep (interval) scale\n",
    "    \n",
    "    dt_scale = np.abs( u_scale / func(t, u_old) )\n",
    "    \n",
    "    # set timestep\n",
    "    \n",
    "    dt = np.min( dt_scale[:2] )\n",
    "    \n",
    "    # set function to be integrated\n",
    "    \n",
    "    f = func(t, u_old)\n",
    "    \n",
    "    # integrate u = u_old forward by dt to u = u_new\n",
    "    \n",
    "    u_new = u_old + dt*f\n",
    "    \n",
    "    return dt, u_new"
   ]
  },
  {
   "cell_type": "code",
   "execution_count": null,
   "metadata": {
    "collapsed": true
   },
   "outputs": [],
   "source": []
  },
  {
   "cell_type": "code",
   "execution_count": null,
   "metadata": {
    "collapsed": true
   },
   "outputs": [],
   "source": []
  }
 ],
 "metadata": {
  "kernelspec": {
   "display_name": "Python 3",
   "language": "python",
   "name": "python3"
  },
  "language_info": {
   "codemirror_mode": {
    "name": "ipython",
    "version": 3
   },
   "file_extension": ".py",
   "mimetype": "text/x-python",
   "name": "python",
   "nbconvert_exporter": "python",
   "pygments_lexer": "ipython3",
   "version": "3.6.4"
  }
 },
 "nbformat": 4,
 "nbformat_minor": 2
}
