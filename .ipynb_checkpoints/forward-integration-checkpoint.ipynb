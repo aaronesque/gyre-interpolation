{
 "cells": [
  {
   "cell_type": "code",
   "execution_count": 1,
   "metadata": {
    "collapsed": true
   },
   "outputs": [],
   "source": [
    "import numpy as np\n",
    "import sympy as sym\n",
    "import scipy.optimize as opt\n",
    "import matplotlib.pyplot as plt\n",
    "%matplotlib inline"
   ]
  },
  {
   "cell_type": "markdown",
   "metadata": {},
   "source": [
    "eta=1"
   ]
  },
  {
   "cell_type": "markdown",
   "metadata": {},
   "source": [
    "to do: \n",
    "    1. write polytrope solver"
   ]
  },
  {
   "cell_type": "code",
   "execution_count": 213,
   "metadata": {
    "collapsed": true
   },
   "outputs": [],
   "source": [
    "def ddf (k, x):\n",
    "    \n",
    "    ddf = k*x**2\n",
    "    \n",
    "    return ddf"
   ]
  },
  {
   "cell_type": "code",
   "execution_count": 214,
   "metadata": {
    "collapsed": true
   },
   "outputs": [],
   "source": [
    "def df_forw_rect (k, df_a, x_ab, nsteps, array=False):\n",
    "    \n",
    "    # Set intervals\n",
    "    \n",
    "    dx = (x_ab[1]-x_ab[0])/nsteps\n",
    "    \n",
    "    x_ = np.linspace(x_ab[0], x_ab[1], nsteps+1)\n",
    "    \n",
    "    df_ = np.linspace(df_a, df_a, nsteps+1)\n",
    "    \n",
    "    \n",
    "    # Forward rectangle rule\n",
    "    \n",
    "    for i in range(1, nsteps+1):\n",
    "        \n",
    "        df_[i] = df_[i-1] + dx * ddf(k, x_[i-1])\n",
    "        \n",
    "    if array==True:\n",
    "        \n",
    "        return x_, df_\n",
    "    \n",
    "    return df_[-1]"
   ]
  },
  {
   "cell_type": "code",
   "execution_count": 215,
   "metadata": {
    "collapsed": true
   },
   "outputs": [],
   "source": [
    "def f_forw_rect (k, f_a, df_a, x_ab, nsteps, array=False):\n",
    "    \n",
    "    # Set intervals\n",
    "    \n",
    "    dx = (x_ab[1]-x_ab[0])/nsteps\n",
    "    \n",
    "    df_ = df_forw_rect(k, df_a, x_ab, nsteps, True)[1]\n",
    "    \n",
    "    x_ = np.linspace(x_ab[0], x_ab[1], nsteps+1)\n",
    "    \n",
    "    f_ = np.linspace(f_a, f_a, nsteps+1)\n",
    "    \n",
    "    \n",
    "    # Forward rectangle rule\n",
    "    \n",
    "    for i in range(2, nsteps+1):\n",
    "        \n",
    "        f_[i] = f_[i-2] + 2*dx * df_[i-2] + dx**2 * ddf(k, x_[i-2])\n",
    "        \n",
    "    if array==True:\n",
    "        \n",
    "        return x_, f_, df_\n",
    "    \n",
    "    return f_[-1]"
   ]
  },
  {
   "cell_type": "code",
   "execution_count": 615,
   "metadata": {
    "collapsed": true
   },
   "outputs": [],
   "source": [
    "x_ab = [0,5]\n",
    "f_a = 0\n",
    "df_a = 4\n",
    "ddf_a = 0\n",
    "k = 1"
   ]
  },
  {
   "cell_type": "code",
   "execution_count": 616,
   "metadata": {
    "collapsed": true
   },
   "outputs": [],
   "source": [
    "n=1000\n",
    "\n",
    "x = df_forw_rect(k, df_a, x_ab, n, True)[0]\n",
    "\n",
    "f = f_forw_rect(k, f_a, df_a, x_ab, n, True)[1]\n",
    "\n",
    "df = f_forw_rect(k, f_a, df_a, x_ab, n, True)[2]"
   ]
  },
  {
   "cell_type": "code",
   "execution_count": 617,
   "metadata": {},
   "outputs": [
    {
     "name": "stdout",
     "output_type": "stream",
     "text": [
      "71.8752603125\n",
      "72.08333333333333\n"
     ]
    }
   ],
   "source": [
    "print(f[-1])\n",
    "print((1/12)*k*5**4 + 4*5)"
   ]
  },
  {
   "cell_type": "code",
   "execution_count": 618,
   "metadata": {
    "scrolled": true
   },
   "outputs": [
    {
     "data": {
      "text/plain": [
       "<matplotlib.text.Text at 0x1516f45400>"
      ]
     },
     "execution_count": 618,
     "metadata": {},
     "output_type": "execute_result"
    },
    {
     "data": {
      "image/png": "[encoded data removed]",
      "text/plain": [
       "<matplotlib.figure.Figure at 0x1516ccf940>"
      ]
     },
     "metadata": {},
     "output_type": "display_data"
    }
   ],
   "source": [
    "fig, ax = plt.subplots()\n",
    "ax.plot(x, f, label='numerical')\n",
    "ax.plot(x, (1/12)*k*x**4 +4*x, label='analytical')\n",
    "\n",
    "ax.legend()\n",
    "ax.set_title(r'Analytical vs Numerical $f(x_i)$')"
   ]
  },
  {
   "cell_type": "code",
   "execution_count": 610,
   "metadata": {},
   "outputs": [
    {
     "data": {
      "text/plain": [
       "<matplotlib.text.Text at 0x1515e46cf8>"
      ]
     },
     "execution_count": 610,
     "metadata": {},
     "output_type": "execute_result"
    },
    {
     "data": {
      "image/png": "[encoded data removed]",
      "text/plain": [
       "<matplotlib.figure.Figure at 0x15161daf60>"
      ]
     },
     "metadata": {},
     "output_type": "display_data"
    }
   ],
   "source": [
    "fig, ax = plt.subplots()\n",
    "ax.plot(x, df, label='numerical')\n",
    "ax.plot(x, (1/3)*x**3 + 4, label='analytical')\n",
    "\n",
    "ax.legend()\n",
    "ax.set_title(r\"Analytical vs Numerical $f'(x_i)$\")"
   ]
  },
  {
   "cell_type": "code",
   "execution_count": null,
   "metadata": {
    "collapsed": true
   },
   "outputs": [],
   "source": []
  },
  {
   "cell_type": "code",
   "execution_count": null,
   "metadata": {
    "collapsed": true
   },
   "outputs": [],
   "source": []
  }
 ],
 "metadata": {
  "kernelspec": {
   "display_name": "Python 3",
   "language": "python",
   "name": "python3"
  },
  "language_info": {
   "codemirror_mode": {
    "name": "ipython",
    "version": 3
   },
   "file_extension": ".py",
   "mimetype": "text/x-python",
   "name": "python",
   "nbconvert_exporter": "python",
   "pygments_lexer": "ipython3",
   "version": "3.6.4"
  }
 },
 "nbformat": 4,
 "nbformat_minor": 2
}
