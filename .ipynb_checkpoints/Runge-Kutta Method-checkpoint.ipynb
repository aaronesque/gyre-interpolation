{
 "cells": [
  {
   "cell_type": "markdown",
   "metadata": {},
   "source": [
    "Runge Kutta method integration scheme\n",
    "    Written by Aaron Thomas Bailey\n",
    "    atbailey@wisc.edu\n",
    "    6/21/19"
   ]
  },
  {
   "cell_type": "code",
   "execution_count": 1,
   "metadata": {
    "collapsed": true
   },
   "outputs": [],
   "source": [
    "#Import  pyplot and numpy\n",
    "import numpy as np\n",
    "from matplotlib import pyplot as plt"
   ]
  },
  {
   "cell_type": "code",
   "execution_count": 13,
   "metadata": {
    "collapsed": true
   },
   "outputs": [],
   "source": [
    "#Define differential equation to be solved\n",
    "\n",
    "def fun(t, y):\n",
    "    f = t\n",
    "    return f"
   ]
  },
  {
   "cell_type": "code",
   "execution_count": 14,
   "metadata": {
    "collapsed": true
   },
   "outputs": [],
   "source": [
    "#Parameters\n",
    "\n",
    "t_0 = 0\n",
    "t_end = 5\n",
    "y_0 = 1\n",
    "\n",
    "n = 1000\n",
    "h = (t_end - t_0)/n\n",
    "\n",
    "t = np.linspace(t_0, t_end, n)\n",
    "y = np.zeros(n)"
   ]
  },
  {
   "cell_type": "code",
   "execution_count": 15,
   "metadata": {
    "collapsed": true
   },
   "outputs": [],
   "source": [
    "#Set up RK4 method\n",
    "\n",
    "k1 = np.zeros(n)\n",
    "k2 = np.zeros(n)\n",
    "k3 = np.zeros(n)\n",
    "k4 = np.zeros(n)\n",
    "\n",
    "def k1(t_n, y_n, h):\n",
    "    k1_n = h*fun(t_n, y_n)\n",
    "    return k1_n\n",
    "\n",
    "def k2(t_n, y_n, h, k1_n):\n",
    "    k2_n = h*fun(t_n + h/2, y_n + k1_n/2)\n",
    "    return k2_n\n",
    "\n",
    "def k3(t_n, y_n, h, k2_n):\n",
    "    k3_n = h*fun(t_n + h/2, y_n + k2_n/2)\n",
    "    return k3_n\n",
    "\n",
    "def k4(t_n, y_n, h, k3_n):\n",
    "    k4_n = h*fun(t_n + h, y_n + k3_n)\n",
    "    return k4_n"
   ]
  },
  {
   "cell_type": "code",
   "execution_count": 16,
   "metadata": {
    "collapsed": true
   },
   "outputs": [],
   "source": [
    "#Implement\n",
    "\n",
    "def RK4(t_0, t_end, y_0, n, h, t, y):\n",
    "    t_n = t_0\n",
    "    y_n = y_0\n",
    "    t[0] = t_0\n",
    "    y[0] = y_0\n",
    "    \n",
    "    for i in range (1, n):\n",
    "        \n",
    "        k1_n = k1(t_n, y_n, h)\n",
    "        k2_n = k2(t_n, y_n, h ,k1_n)\n",
    "        k3_n = k3(t_n, y_n, h, k2_n)\n",
    "        k4_n = k4(t_n, y_n, h, k3_n)\n",
    "        \n",
    "        y[i] = y[i-1] + (1/6)*(k1_n + 2*k2_n + 2*k3_n + k4_n)\n",
    "        y_n = y[i]\n",
    "        t_n += h\n",
    "        \n",
    "    return y"
   ]
  },
  {
   "cell_type": "code",
   "execution_count": 17,
   "metadata": {},
   "outputs": [
    {
     "data": {
      "image/png": "[encoded data removed]",
      "text/plain": [
       "<matplotlib.figure.Figure at 0x108e21860>"
      ]
     },
     "metadata": {},
     "output_type": "display_data"
    }
   ],
   "source": [
    "f = RK4(t_0, t_end, y_0, n, h, t, y)\n",
    "plt.plot(t, f)\n",
    "plt.show()"
   ]
  },
  {
   "cell_type": "code",
   "execution_count": null,
   "metadata": {
    "collapsed": true
   },
   "outputs": [],
   "source": []
  }
 ],
 "metadata": {
  "kernelspec": {
   "display_name": "Python 3",
   "language": "python",
   "name": "python3"
  },
  "language_info": {
   "codemirror_mode": {
    "name": "ipython",
    "version": 3
   },
   "file_extension": ".py",
   "mimetype": "text/x-python",
   "name": "python",
   "nbconvert_exporter": "python",
   "pygments_lexer": "ipython3",
   "version": "3.6.4"
  }
 },
 "nbformat": 4,
 "nbformat_minor": 2
}
