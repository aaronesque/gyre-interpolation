{
 "cells": [
  {
   "cell_type": "code",
   "execution_count": 1,
   "metadata": {
    "collapsed": true
   },
   "outputs": [],
   "source": [
    "import numpy as np\n",
    "import sympy as sym\n",
    "import scipy.optimize as opt\n",
    "from scipy.integrate import odeint\n",
    "import matplotlib.pyplot as plt\n",
    "%matplotlib inline"
   ]
  },
  {
   "cell_type": "code",
   "execution_count": 2,
   "metadata": {
    "collapsed": true
   },
   "outputs": [],
   "source": [
    "# func() finds time-derivatives of u.\n",
    "\n",
    "def func (u_old, xi):\n",
    "    \n",
    "    # local variables\n",
    "    \n",
    "    y = u_old[0]\n",
    "    z = u_old[1]\n",
    "    \n",
    "    f = np.zeros_like(u_old)\n",
    "    \n",
    "    # getting derivatives from Lane-Emden equations\n",
    "    \n",
    "    if xi==0:\n",
    "        \n",
    "        dy = z\n",
    "        dz = - 1./3.\n",
    "        \n",
    "    else:\n",
    "        \n",
    "        dy = z\n",
    "        dz = - y**n - (2./xi)*z\n",
    "    \n",
    "    # setting xi-derivatives of u\n",
    "    \n",
    "    f[0] = dy\n",
    "    f[1] = dz\n",
    "    \n",
    "    return f"
   ]
  },
  {
   "cell_type": "markdown",
   "metadata": {},
   "source": [
    "### RK4 solver"
   ]
  },
  {
   "cell_type": "code",
   "execution_count": 3,
   "metadata": {
    "collapsed": true
   },
   "outputs": [],
   "source": [
    "# rk4() computes u_new from u_old, func=(du/dx)_old\n",
    "\n",
    "def rk4 (xi, u_old, u_scale, n, ftol):\n",
    "    \n",
    "    ## set timestep\n",
    "    \n",
    "    if xi==0:\n",
    "        \n",
    "        dxi = ftol\n",
    "        \n",
    "    else:\n",
    "        \n",
    "        dxi = ftol # np.abs( u_scale[0] / func(u_old, xi)[0] )**0.2\n",
    "    \n",
    "    ## set k-values\n",
    "    \n",
    "    k1 = dxi*func(u_old, xi)\n",
    "    \n",
    "    k2 = dxi*func(u_old + k1/2, xi + dxi/2)\n",
    "    \n",
    "    k3 = dxi*func(u_old + k2/2, xi + dxi/2)\n",
    "    \n",
    "    k4 = dxi*func(u_old + k3, xi + dxi)\n",
    "    \n",
    "    ## integrate u = u_old forward by dt to u = u_new\n",
    "    \n",
    "    u_new = u_old + (1./6)*(k1 + 2*k2 + 2*k3 + k4)\n",
    "    \n",
    "    ## return computed interval and solution for xi + dxi\n",
    "    \n",
    "    return dxi, u_new"
   ]
  },
  {
   "cell_type": "code",
   "execution_count": 4,
   "metadata": {
    "collapsed": true
   },
   "outputs": [],
   "source": [
    "# update() stores ODE solution values and resets parameters for reuse\n",
    "\n",
    "def update(xi_, u_, xi, dxi, u_old, u_new):\n",
    "\n",
    "    xi += dxi\n",
    "    u_old = u_new\n",
    "    \n",
    "    xi_ = np.append( xi_, xi )\n",
    "    u_ = np.append( u_, u_new )\n",
    "    \n",
    "    return xi_, u_, xi, u_old"
   ]
  },
  {
   "cell_type": "code",
   "execution_count": 5,
   "metadata": {
    "collapsed": true
   },
   "outputs": [],
   "source": [
    "# interrupt() checks whether the solver's stopping condition is met.\n",
    "\n",
    "def interrupt(xi, xi_b, u_old, n):\n",
    "    \n",
    "    if n < 5:\n",
    "        \n",
    "        if u_old[0] > 0:\n",
    "            \n",
    "            return True\n",
    "        \n",
    "        else:\n",
    "            \n",
    "            print('Zero at xi = ',xi)\n",
    "            \n",
    "            return False\n",
    "        \n",
    "    elif n >= 5:\n",
    "        \n",
    "        if u_old[0] > 0.1:\n",
    "            #xi < xi_b:\n",
    "            \n",
    "            return True\n",
    "        \n",
    "        else: \n",
    "            \n",
    "            print('n>=5, no zero. Stop at xi = ',xi)\n",
    "            \n",
    "            return False\n",
    "        \n",
    "    print('Error. n=', n)\n",
    "    \n",
    "    return False"
   ]
  },
  {
   "cell_type": "code",
   "execution_count": 6,
   "metadata": {
    "collapsed": true
   },
   "outputs": [],
   "source": [
    "# main() pushes the integrator forward by a step\n",
    "# soln() integrates u from t_a to t_b using rk4().\n",
    "\n",
    "def soln (xi_a, xi_b, u_a, u_scale, n, ftol, array=False):\n",
    "    \n",
    "    # call init()\n",
    "    \n",
    "    xi = xi_a\n",
    "    xi_ = np.array([xi_a])\n",
    "    \n",
    "    u_old = u_a\n",
    "    u_ = np.array([u_old])\n",
    "    \n",
    "    check = True\n",
    "    \n",
    "    while check==True:\n",
    "        \n",
    "        # call rk4()\n",
    "        dxi, u_new = rk4(xi, u_old, u_scale, n, ftol)\n",
    "        \n",
    "        # call update()\n",
    "        xi_, u_, xi, u_old = update(xi_, u_, xi, dxi, u_old, u_new)\n",
    "        \n",
    "        # call interrupt()\n",
    "        check = interrupt(xi, xi_b, u_old, n)\n",
    "        \n",
    "    if array==True:\n",
    "        \n",
    "        return xi_, u_\n",
    "        \n",
    "    return xi, u_old"
   ]
  },
  {
   "cell_type": "code",
   "execution_count": 7,
   "metadata": {},
   "outputs": [
    {
     "name": "stdout",
     "output_type": "stream",
     "text": [
      "n>=5, no zero. Stop at xi =  10.000999999999896\n",
      "10.001\n"
     ]
    }
   ],
   "source": [
    "### Particle initialization\n",
    "\n",
    "# polytropic index\n",
    "n = 5\n",
    "\n",
    "# theta\n",
    "th_a = np.array([1.])\n",
    "\n",
    "# dtheta\n",
    "dth_a = np.array([0.])\n",
    "\n",
    "# coordinates\n",
    "u_a = np.concatenate((th_a,dth_a))\n",
    "xi_a = 0.\n",
    "xi_b = 10\n",
    "\n",
    "# scale\n",
    "ftol = 1e-3\n",
    "u_scale = ftol*np.ones_like(u_a)\n",
    "\n",
    "\n",
    "### Solution vectors\n",
    "xi_, theta_ = soln(xi_a, xi_b, u_a, u_scale, n, ftol, array=True)\n",
    "\n",
    "theta_, dtheta_ = theta_[::2], theta_[1::2]\n",
    "print(xi_[-1])"
   ]
  },
  {
   "cell_type": "markdown",
   "metadata": {},
   "source": [
    "### scipy RK4 solver"
   ]
  },
  {
   "cell_type": "code",
   "execution_count": 8,
   "metadata": {
    "collapsed": true
   },
   "outputs": [],
   "source": [
    "U_old = np.concatenate((th_a,dth_a))\n",
    "xi_s = np.linspace(xi_a, xi_[-1], len(xi_))\n",
    "\n",
    "U_soln = odeint(func, U_old, xi_s)\n",
    "\n",
    "theta_s= U_soln[:,0]"
   ]
  },
  {
   "cell_type": "markdown",
   "metadata": {},
   "source": [
    "### Comparison"
   ]
  },
  {
   "cell_type": "code",
   "execution_count": 9,
   "metadata": {
    "scrolled": false
   },
   "outputs": [
    {
     "name": "stderr",
     "output_type": "stream",
     "text": [
      "/Users/TARS/anaconda3/lib/python3.6/site-packages/ipykernel_launcher.py:22: RuntimeWarning: divide by zero encountered in log10\n"
     ]
    },
    {
     "data": {
      "image/png": "[encoded data removed]",
      "text/plain": [
       "<matplotlib.figure.Figure at 0x113ed15c0>"
      ]
     },
     "metadata": {},
     "output_type": "display_data"
    }
   ],
   "source": [
    "fig, ax = plt.subplots(1,2, figsize=(9, 4), dpi=100)\n",
    "\n",
    "\n",
    "\n",
    "ax[0].plot(xi_, theta_, lw=0.8, label='Artisanal solver')\n",
    "\n",
    "ax[0].plot(xi_, theta_s, lw=0.8, label='Scipy solver')\n",
    "\n",
    "ax[0].plot(xi_, theta_*0, c='k', lw=0.5)\n",
    "\n",
    "\n",
    "ax[0].set_xlabel(r'$\\xi$')\n",
    "\n",
    "ax[0].set_ylabel(f'$\\\\theta ^{{{n}}}$', labelpad=-4)\n",
    "\n",
    "ax[0].legend()\n",
    "\n",
    "ax[0].set_title(f\"n={n} Polytrope, $\\\\xi_b =${xi_[-1]:{5}.{4}}\", y=1.02)\n",
    "\n",
    "\n",
    "\n",
    "ax[1].plot(xi_s, np.log10(np.abs(1 - theta_/theta_s)), lw=0.8)\n",
    "\n",
    "ax[1].plot(xi_, theta_*0, c='k', lw=0.5)\n",
    "\n",
    "\n",
    "\n",
    "ax[1].set_xlabel(r'$\\xi$')\n",
    "\n",
    "ax[1].set_ylabel(f'log (1 - | $\\\\theta^{{{n}}} /$ odeint |)', labelpad=-4)\n",
    "\n",
    "ax[1].set_title(f\"error estimate\", y=1.02)\n",
    "\n",
    "\n",
    "\n",
    "fig.savefig(f'polytrope-{n}.png')"
   ]
  },
  {
   "cell_type": "markdown",
   "metadata": {},
   "source": [
    "### Euler solver"
   ]
  },
  {
   "cell_type": "code",
   "execution_count": 518,
   "metadata": {
    "collapsed": true
   },
   "outputs": [],
   "source": [
    "# euler() computes y1 from y0, f=(dy/dx)_0 , and h=x1-x0.\n",
    "\n",
    "def euler (t, u_old, u_scale):\n",
    "    \n",
    "    # set adaptive timestep (interval) scale\n",
    "    \n",
    "    dt_scale = np.abs( u_scale / func(t, u_old) )\n",
    "    \n",
    "    # set timestep\n",
    "    \n",
    "    dt = np.min( dt_scale[:2] )\n",
    "    \n",
    "    # set function to be integrated\n",
    "    \n",
    "    f = func(t, u_old)\n",
    "    \n",
    "    # integrate u = u_old forward by dt to u = u_new\n",
    "    \n",
    "    u_new = u_old + dt*f\n",
    "    \n",
    "    return dt, u_new"
   ]
  },
  {
   "cell_type": "code",
   "execution_count": null,
   "metadata": {
    "collapsed": true
   },
   "outputs": [],
   "source": []
  },
  {
   "cell_type": "code",
   "execution_count": null,
   "metadata": {
    "collapsed": true
   },
   "outputs": [],
   "source": []
  },
  {
   "cell_type": "code",
   "execution_count": null,
   "metadata": {
    "collapsed": true
   },
   "outputs": [],
   "source": []
  },
  {
   "cell_type": "code",
   "execution_count": null,
   "metadata": {
    "collapsed": true
   },
   "outputs": [],
   "source": []
  }
 ],
 "metadata": {
  "kernelspec": {
   "display_name": "Python 3",
   "language": "python",
   "name": "python3"
  },
  "language_info": {
   "codemirror_mode": {
    "name": "ipython",
    "version": 3
   },
   "file_extension": ".py",
   "mimetype": "text/x-python",
   "name": "python",
   "nbconvert_exporter": "python",
   "pygments_lexer": "ipython3",
   "version": "3.6.4"
  }
 },
 "nbformat": 4,
 "nbformat_minor": 2
}
