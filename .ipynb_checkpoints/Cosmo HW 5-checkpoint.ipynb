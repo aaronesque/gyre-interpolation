{
 "cells": [
  {
   "cell_type": "code",
   "execution_count": 2,
   "metadata": {
    "collapsed": true
   },
   "outputs": [],
   "source": [
    "import numpy as np\n",
    "import sympy as sym\n",
    "import scipy.optimize as opt\n",
    "\n",
    "from astropy import units as u\n",
    "from astropy import constants as const\n",
    "\n",
    "import matplotlib.pyplot as plt\n",
    "%matplotlib inline"
   ]
  },
  {
   "cell_type": "markdown",
   "metadata": {},
   "source": [
    "# 1."
   ]
  },
  {
   "cell_type": "code",
   "execution_count": 43,
   "metadata": {
    "collapsed": true
   },
   "outputs": [],
   "source": [
    "d_mean = 99 * u.Mpc \n",
    "R = 3 * u.Mpc\n",
    "sig_R = 1.3 * u.Mpc\n",
    "\n",
    "sig_v = 1000 * u.km * u.s**-1\n",
    "H0 = 70 * (u.km * u.s**-1)/(u.Mpc)\n",
    "c = const.c"
   ]
  },
  {
   "cell_type": "markdown",
   "metadata": {},
   "source": [
    "### a)"
   ]
  },
  {
   "cell_type": "markdown",
   "metadata": {},
   "source": [
    "First, what is the mean redshift of the cluster?"
   ]
  },
  {
   "cell_type": "code",
   "execution_count": 221,
   "metadata": {},
   "outputs": [],
   "source": [
    "z_mean = H0*d_mean/c"
   ]
  },
  {
   "cell_type": "code",
   "execution_count": 222,
   "metadata": {},
   "outputs": [
    {
     "data": {
      "text/latex": [
       "$0.023115992 \\; \\mathrm{}$"
      ],
      "text/plain": [
       "<Quantity 0.023115991797231936>"
      ]
     },
     "execution_count": 222,
     "metadata": {},
     "output_type": "execute_result"
    }
   ],
   "source": [
    "z_mean.cgs"
   ]
  },
  {
   "cell_type": "markdown",
   "metadata": {},
   "source": [
    "So we don't have to consider cosmological expansion when we try to find the angle subtended on the sky by the cluster. What is that angle?"
   ]
  },
  {
   "cell_type": "code",
   "execution_count": 496,
   "metadata": {},
   "outputs": [
    {
     "data": {
      "text/latex": [
       "$1.7362357 \\; \\mathrm{{}^{\\circ}}$"
      ],
      "text/plain": [
       "<Quantity 1.7362357428206765 deg>"
      ]
     },
     "execution_count": 496,
     "metadata": {},
     "output_type": "execute_result"
    }
   ],
   "source": [
    "angle_mean = R/d_mean * (180*u.deg/np.pi)\n",
    "angle_mean"
   ]
  },
  {
   "cell_type": "code",
   "execution_count": 497,
   "metadata": {},
   "outputs": [
    {
     "data": {
      "text/latex": [
       "$0.75236882 \\; \\mathrm{{}^{\\circ}}$"
      ],
      "text/plain": [
       "<Quantity 0.7523688218889598 deg>"
      ]
     },
     "execution_count": 497,
     "metadata": {},
     "output_type": "execute_result"
    }
   ],
   "source": [
    "sig_angle = sig_R/d_mean * (180*u.deg/np.pi)\n",
    "sig_angle"
   ]
  },
  {
   "cell_type": "markdown",
   "metadata": {},
   "source": [
    "### b)"
   ]
  },
  {
   "cell_type": "markdown",
   "metadata": {},
   "source": [
    "To create arrays representing a Gaussian distribution of galaxies about $\\mu = d_{mean}$ with variance $\\sigma_R^2$, I will use\n",
    "\n",
    "$\\sigma_R * \\text{np.random.randn(...)} + \\mu$"
   ]
  },
  {
   "cell_type": "code",
   "execution_count": 218,
   "metadata": {},
   "outputs": [],
   "source": [
    "R_dist = np.add( sig_R * np.random.randn(1,1000)[0], d_mean )\n",
    "angle_dist = sig_angle * np.random.randn(1,1000)[0]"
   ]
  },
  {
   "cell_type": "code",
   "execution_count": 219,
   "metadata": {},
   "outputs": [],
   "source": [
    "z_dist = R_dist*H0/c\n",
    "sig_z = sig_R*H0/c"
   ]
  },
  {
   "cell_type": "code",
   "execution_count": 494,
   "metadata": {},
   "outputs": [
    {
     "data": {
      "image/png": "[encoded data removed]",
      "text/plain": [
       "<matplotlib.figure.Figure at 0x1516e8ba58>"
      ]
     },
     "metadata": {},
     "output_type": "display_data"
    }
   ],
   "source": [
    "plt.figure(figsize=(5,5))\n",
    "plt.scatter( z_dist.cgs, angle_dist, s=1 )\n",
    "\n",
    "plt.xlabel(r'$z$ [cosmological redshift]')\n",
    "plt.ylabel(r'$\\theta$ [degrees]')\n",
    "\n",
    "plt.ylim(-3*sig_angle.value, 3*sig_angle.value)\n",
    "plt.xlim(z_mean.cgs - 0.015, z_mean.cgs + 0.015)\n",
    "plt.savefig('1b.png')"
   ]
  },
  {
   "cell_type": "markdown",
   "metadata": {},
   "source": [
    "### c)"
   ]
  },
  {
   "cell_type": "code",
   "execution_count": 237,
   "metadata": {
    "collapsed": true
   },
   "outputs": [],
   "source": [
    "v_dist = sig_v * np.random.randn(1,1000)[0]"
   ]
  },
  {
   "cell_type": "code",
   "execution_count": 278,
   "metadata": {
    "collapsed": true
   },
   "outputs": [],
   "source": [
    "zv_dist = v_dist/c"
   ]
  },
  {
   "cell_type": "code",
   "execution_count": 301,
   "metadata": {},
   "outputs": [
    {
     "data": {
      "text/latex": [
       "$0.023115992 \\; \\mathrm{}$"
      ],
      "text/plain": [
       "<Quantity 0.023115991797231936>"
      ]
     },
     "execution_count": 301,
     "metadata": {},
     "output_type": "execute_result"
    }
   ],
   "source": [
    "z_mean.cgs"
   ]
  },
  {
   "cell_type": "code",
   "execution_count": 280,
   "metadata": {},
   "outputs": [
    {
     "data": {
      "text/latex": [
       "$[-0.0020913238,~-0.0037728011,~0.0028779603,~\\dots, 0.0019407845,~0.00050713979,~-0.002553931] \\; \\mathrm{}$"
      ],
      "text/plain": [
       "<Quantity [ -2.09132384e-03, -3.77280110e-03,  2.87796034e-03,\n",
       "            -3.72115632e-03, -2.57904835e-03, -4.55134607e-03,\n",
       "             4.80301176e-03,  6.43857390e-03, -3.15144256e-03,\n",
       "            -7.69478770e-04, -1.35246352e-03, -4.76434064e-03,\n",
       "             1.93045277e-03, -2.34753155e-03, -6.76543462e-03,\n",
       "             6.43949735e-04,  2.88938012e-03,  5.87446807e-03,\n",
       "            -5.65697371e-03,  3.65468529e-03, -6.81839490e-04,\n",
       "            -4.97531618e-03,  2.51477952e-04,  5.57153013e-03,\n",
       "            -1.40193274e-04,  1.56501183e-04, -2.42709380e-03,\n",
       "             4.91157671e-03, -7.17314559e-04, -2.34205864e-03,\n",
       "            -2.75284199e-03,  2.27432899e-03, -2.87428931e-04,\n",
       "            -5.37843960e-03, -4.73632853e-03, -3.21874598e-03,\n",
       "            -2.02718933e-04,  3.36089700e-04, -1.16534521e-04,\n",
       "            -5.58553325e-04, -6.78071578e-03, -5.88761589e-03,\n",
       "             1.21203266e-03, -6.15125613e-03, -7.74125616e-04,\n",
       "             7.70915236e-03,  4.09486899e-03,  5.07393632e-03,\n",
       "             2.07296114e-03, -3.65847513e-03,  2.39022307e-03,\n",
       "            -2.76707276e-03, -1.28635490e-04,  7.30676336e-04,\n",
       "             7.93144874e-03,  4.98583928e-04, -2.23258768e-03,\n",
       "             1.39031637e-03,  5.97720297e-03,  2.75734502e-03,\n",
       "             1.55336214e-03,  2.73272210e-03, -1.35332524e-03,\n",
       "             4.32105173e-03,  5.30088783e-03,  6.15220343e-03,\n",
       "             5.28490692e-03, -5.64406240e-03, -5.30358447e-03,\n",
       "            -5.23314649e-04, -6.53844126e-03,  1.81085262e-03,\n",
       "             4.64190703e-03, -3.54790682e-03,  6.44500198e-03,\n",
       "            -6.95327965e-03, -2.94771882e-03, -8.37536655e-05,\n",
       "            -1.58363259e-03,  6.26542359e-03, -6.80984148e-03,\n",
       "            -6.45438133e-03,  1.75249264e-03, -8.42296404e-04,\n",
       "             3.48004157e-04, -1.47512085e-03,  7.20430983e-03,\n",
       "             6.72827489e-05,  2.12706517e-03, -1.72340308e-03,\n",
       "             1.30230176e-03,  1.22752375e-04, -3.04837178e-03,\n",
       "             1.26765424e-03, -9.70071023e-04,  2.68422493e-05,\n",
       "             7.29137019e-04,  4.86263643e-03, -1.37738093e-03,\n",
       "            -4.03777637e-03,  5.51369508e-04,  5.15693676e-03,\n",
       "            -1.40651762e-03, -5.27154362e-04, -3.47763822e-03,\n",
       "             5.78484684e-03,  1.09702106e-03, -4.91002731e-03,\n",
       "            -4.04963418e-03,  6.12411164e-04, -1.87518075e-03,\n",
       "            -4.45019879e-03,  2.29057925e-03,  2.09940600e-03,\n",
       "             1.79986819e-03, -4.57036879e-03, -3.52572029e-04,\n",
       "            -4.32855990e-03,  7.89830227e-04,  3.62498332e-03,\n",
       "             5.68175438e-04, -1.46739075e-03, -3.01493385e-04,\n",
       "            -8.89431976e-04, -8.90965838e-04, -5.08694368e-03,\n",
       "             3.15564614e-03, -5.19771894e-03, -1.12190694e-03,\n",
       "             6.61736118e-03,  1.79188672e-03, -1.50270499e-03,\n",
       "             1.17156185e-04, -3.72276975e-03,  6.78974280e-03,\n",
       "            -4.45838484e-03, -3.48489110e-03,  1.57054402e-03,\n",
       "            -9.72173062e-04,  1.04915143e-03, -7.37072687e-03,\n",
       "            -2.80421328e-03, -1.73283856e-03, -2.47759745e-03,\n",
       "             4.01218449e-03, -7.54677617e-04,  2.17213196e-03,\n",
       "             2.24366816e-03, -5.82125349e-04,  1.44197788e-03,\n",
       "             1.16780470e-03,  6.03725419e-03, -3.05678922e-03,\n",
       "             3.93800176e-03, -1.26331078e-03, -2.43979643e-03,\n",
       "             2.50785226e-03, -5.30925204e-04,  2.29315269e-03,\n",
       "             2.65876541e-03,  6.17736343e-03,  1.99373769e-03,\n",
       "             2.71148032e-03,  4.06206419e-03,  1.02398416e-03,\n",
       "            -6.29047992e-04,  2.32353209e-03,  3.94452001e-03,\n",
       "            -3.54552551e-03,  7.93481810e-03,  4.11395260e-03,\n",
       "            -2.51488250e-03,  2.39854879e-03, -4.76761864e-04,\n",
       "            -1.91836410e-05,  4.43894939e-04, -1.59954839e-04,\n",
       "            -2.16575523e-03,  9.12429248e-04,  8.91089979e-04,\n",
       "            -5.02796478e-05,  8.91493100e-04, -4.45509912e-03,\n",
       "             3.60761988e-03,  5.54104294e-03, -3.72320245e-04,\n",
       "            -2.12295092e-03, -2.02863308e-03,  5.18787915e-04,\n",
       "            -2.46041417e-03, -2.91178384e-04, -2.54135304e-03,\n",
       "             5.70362231e-03, -1.55747133e-03, -4.37728666e-03,\n",
       "             1.25423798e-03, -2.47360278e-03,  3.24020518e-03,\n",
       "             2.32266342e-03, -1.43621626e-03,  1.72429200e-03,\n",
       "            -7.93512241e-03,  5.60435232e-03, -1.64446980e-03,\n",
       "            -3.39706763e-03,  3.02167282e-03,  3.74731779e-03,\n",
       "            -2.46437616e-03,  6.01092378e-03, -5.44092338e-04,\n",
       "            -2.85848790e-03,  5.25774660e-03,  5.00239952e-03,\n",
       "            -1.83245838e-04,  4.52121215e-03,  4.42209154e-03,\n",
       "            -4.11132218e-04, -2.06767035e-03, -2.35035542e-03,\n",
       "             1.12680252e-03, -6.28133451e-04, -9.39951518e-04,\n",
       "            -6.87051741e-04,  1.37668105e-03, -6.14674954e-03,\n",
       "            -2.61023910e-03, -4.62512895e-04, -8.46011523e-03,\n",
       "            -4.41332775e-04, -1.60037643e-03, -7.53235295e-03,\n",
       "            -1.65822132e-03,  1.73048098e-03,  3.31938946e-03,\n",
       "             4.74650400e-03,  2.40204615e-03,  1.92808320e-04,\n",
       "            -2.76411116e-03,  2.11132001e-03, -2.45247078e-03,\n",
       "            -3.14453099e-03, -1.02377723e-03, -9.01238033e-04,\n",
       "             4.79019495e-03, -7.88403431e-04,  2.42596839e-03,\n",
       "            -5.32151871e-03, -3.85968643e-04, -9.48247240e-04,\n",
       "            -1.35899192e-03, -4.44636373e-03, -2.61596030e-03,\n",
       "            -2.13010838e-03,  2.93941978e-04,  7.46693739e-05,\n",
       "            -3.99136593e-03,  2.67822028e-03, -2.36301724e-03,\n",
       "            -2.02956527e-03, -4.99642876e-03,  4.49029917e-04,\n",
       "            -1.62552513e-03,  4.57762499e-04,  8.94593361e-03,\n",
       "            -1.17059981e-03,  4.82217630e-03, -2.40485831e-03,\n",
       "             1.70502844e-03, -3.33037597e-03,  4.99999213e-03,\n",
       "             4.60307971e-03, -2.51585320e-03,  3.26733191e-03,\n",
       "            -2.60162260e-04,  1.02490420e-03,  3.29493168e-04,\n",
       "            -5.51468424e-04,  5.09170515e-04, -2.09734802e-03,\n",
       "             3.68508530e-03,  1.86438353e-03, -1.83611896e-03,\n",
       "             1.60776310e-03,  2.20289910e-04,  6.51343265e-03,\n",
       "             6.15008190e-03,  7.83357820e-04, -3.70943231e-03,\n",
       "            -1.02543005e-03, -1.30416275e-03,  2.05684750e-03,\n",
       "            -5.01597414e-03, -1.26077762e-03, -3.38494346e-03,\n",
       "            -3.97949235e-03, -2.84506918e-03,  1.70930985e-04,\n",
       "             3.70496433e-03,  3.17906093e-03, -5.21726737e-03,\n",
       "            -3.97152940e-03,  3.91278547e-03, -1.22476300e-03,\n",
       "            -1.12326375e-03, -5.75254467e-04,  5.57691546e-03,\n",
       "             4.69604803e-04, -7.38950870e-03,  3.06527007e-03,\n",
       "            -5.25764270e-04, -1.63706379e-03,  3.02794040e-03,\n",
       "             8.61185819e-04,  1.36295877e-03,  9.32987313e-03,\n",
       "            -1.06048068e-03,  2.63186251e-03, -2.88074315e-03,\n",
       "            -2.88534165e-04, -9.75936568e-04,  2.89444054e-03,\n",
       "             3.91070376e-03,  3.26196643e-03, -2.30029152e-03,\n",
       "             1.71624454e-03,  2.59362505e-03,  5.60158099e-03,\n",
       "             1.35824003e-03,  4.57870742e-03,  1.49554109e-03,\n",
       "             1.74106907e-03, -5.18119009e-03, -1.42478081e-03,\n",
       "             2.48650127e-03, -1.57254546e-03,  4.23376982e-04,\n",
       "             3.39493029e-03,  3.49146847e-05,  1.18068096e-03,\n",
       "             7.05236792e-04,  7.62363125e-03,  2.70772904e-03,\n",
       "            -7.22307481e-04, -2.59207195e-03,  6.92059930e-03,\n",
       "            -3.86534818e-03, -2.03665467e-03,  2.66520451e-05,\n",
       "            -3.21547153e-03,  1.12350605e-04,  2.77521248e-03,\n",
       "            -5.61285627e-04, -9.03060503e-04, -1.47308078e-03,\n",
       "             1.26165229e-03, -4.97921235e-03,  3.02955893e-04,\n",
       "            -4.77582541e-04,  2.42491728e-03,  3.90408971e-03,\n",
       "            -2.81032545e-03, -1.67495848e-03, -4.36836750e-03,\n",
       "             4.57711734e-04,  8.27299577e-04, -1.84223610e-03,\n",
       "            -6.41806041e-04, -1.91152884e-03,  2.28315458e-03,\n",
       "            -2.43146920e-03, -1.77866029e-03, -1.24599559e-03,\n",
       "            -4.43624360e-03,  1.11524342e-03,  5.53457983e-03,\n",
       "            -4.97034735e-04, -1.95598345e-03, -1.33636881e-03,\n",
       "             4.44595814e-03, -4.94798189e-03, -2.67376844e-03,\n",
       "            -5.77317146e-03, -4.63806925e-03,  1.39147905e-03,\n",
       "            -5.38936284e-03, -5.58428698e-04,  7.87984981e-05,\n",
       "             7.31751841e-03, -4.07991839e-05, -6.12990030e-04,\n",
       "             4.95628483e-03,  1.33430182e-03,  8.40561828e-04,\n",
       "             1.59393461e-03,  1.61390488e-03,  3.95586121e-03,\n",
       "             4.11941522e-03, -2.71963025e-03, -4.09161716e-03,\n",
       "             2.54698064e-03, -1.64550681e-03, -4.50303565e-03,\n",
       "             3.66607422e-03,  1.53464487e-04,  1.80581656e-03,\n",
       "            -5.76200542e-03, -6.39801189e-04,  1.63460664e-03,\n",
       "            -1.06885326e-03, -1.59045718e-04,  6.06969638e-04,\n",
       "             3.68747257e-04,  1.40081677e-03, -2.33299071e-03,\n",
       "            -4.93292237e-03,  6.00821682e-03,  1.39256800e-02,\n",
       "            -1.92816920e-03, -5.53118132e-04, -1.88856016e-03,\n",
       "            -4.67995946e-04, -2.91296589e-03,  3.19182643e-03,\n",
       "            -1.94559081e-03, -1.30662166e-03, -3.99061341e-03,\n",
       "             4.97259158e-03, -2.20852239e-03,  4.60402196e-05,\n",
       "             2.26463653e-03,  2.05003103e-03, -2.96190617e-03,\n",
       "            -1.71305672e-03, -2.09744316e-03,  3.13524545e-03,\n",
       "            -4.08741065e-04, -2.41936912e-03,  5.10146825e-03,\n",
       "             3.37601076e-03, -8.26647042e-04, -5.00608678e-03,\n",
       "            -4.49302234e-03,  4.00131062e-03, -2.81593182e-03,\n",
       "             6.23794101e-03,  3.82690028e-03, -9.07278040e-04,\n",
       "            -5.93790108e-04, -2.64178394e-03,  6.88151083e-04,\n",
       "             3.77273690e-03, -6.00100879e-03, -3.04147376e-03,\n",
       "            -5.57981132e-03,  7.79940922e-04,  9.25837971e-04,\n",
       "             6.70387784e-05, -9.48232419e-04,  5.62089418e-03,\n",
       "            -4.83539696e-03, -8.18151028e-03, -2.57121777e-04,\n",
       "             4.74723547e-03,  9.99246172e-04, -4.45863302e-03,\n",
       "            -8.33881715e-04,  2.45461860e-03, -2.95304162e-03,\n",
       "             2.89790968e-03,  5.47364293e-03,  4.26425822e-03,\n",
       "            -6.71860191e-03, -3.07806203e-03,  5.51903620e-03,\n",
       "            -8.65868954e-04,  4.74133720e-03,  3.08364314e-03,\n",
       "            -9.22573083e-04,  5.22961601e-03, -2.88846771e-03,\n",
       "             3.56174566e-03,  1.87585176e-03,  1.91231839e-03,\n",
       "             3.30562383e-03, -1.88652307e-03, -3.53513967e-03,\n",
       "             4.51416688e-03,  5.65472054e-04, -1.83354659e-03,\n",
       "            -3.46441675e-03,  7.77593770e-03,  2.89274671e-03,\n",
       "            -2.15020824e-03, -4.77960006e-03, -1.36506381e-03,\n",
       "            -1.12437750e-03,  6.72579046e-04,  7.47245426e-03,\n",
       "             1.60748723e-04, -3.84412020e-03, -1.32159721e-03,\n",
       "            -1.23527295e-03, -7.10969338e-03,  1.70994498e-03,\n",
       "            -1.29167044e-03,  2.28226402e-03,  2.83970502e-03,\n",
       "            -4.24658669e-04, -2.42124240e-04, -3.87492286e-03,\n",
       "             1.09351627e-03,  5.99651962e-04, -4.95531758e-05,\n",
       "             4.09616043e-03, -5.21506572e-03, -4.10706957e-04,\n",
       "            -4.24414950e-03, -3.34021456e-03, -2.39813230e-03,\n",
       "            -1.76174573e-03,  2.66411113e-03, -5.86204179e-03,\n",
       "            -2.31343446e-04, -3.32706515e-04, -3.78570360e-03,\n",
       "             1.23695737e-04,  2.38955364e-03,  3.98054188e-03,\n",
       "             9.52351499e-03, -2.51615834e-04,  1.33097948e-03,\n",
       "            -3.92431747e-03,  1.06852052e-03, -7.46911376e-05,\n",
       "            -7.41123860e-03, -2.09642962e-03, -3.10525127e-03,\n",
       "             3.28917501e-03,  3.27529413e-03,  5.73769303e-03,\n",
       "            -1.48794308e-03, -1.71461643e-03, -8.56040274e-04,\n",
       "            -4.33090500e-03,  7.03127145e-04, -1.15821421e-03,\n",
       "             1.17255112e-03,  5.86217101e-04,  3.51468034e-03,\n",
       "            -9.90578412e-04,  3.30494868e-04, -2.81565900e-03,\n",
       "             3.95975648e-03, -2.93557706e-03, -4.06532500e-03,\n",
       "            -1.50018099e-03, -6.32098097e-04, -3.19191000e-03,\n",
       "             2.36717011e-03,  5.79772978e-03,  2.60405800e-03,\n",
       "            -5.46399897e-03, -1.67212618e-03, -2.49796830e-03,\n",
       "            -1.03739050e-04, -2.33633759e-03, -6.54388491e-04,\n",
       "            -3.75234763e-03, -1.42052036e-03, -2.38121828e-03,\n",
       "            -1.85347783e-03,  1.50191356e-03, -1.10720817e-03,\n",
       "            -8.10112223e-04,  2.28127331e-03,  5.76374913e-03,\n",
       "             4.40790388e-03,  4.74885088e-03, -6.11584178e-03,\n",
       "            -1.28881785e-03, -1.18285102e-03,  4.16796265e-03,\n",
       "             4.29309362e-04, -5.07483124e-04,  1.20394742e-03,\n",
       "            -1.37210152e-03,  3.69799950e-03, -2.48800569e-03,\n",
       "             4.48037683e-03,  3.84868269e-03, -5.25100717e-04,\n",
       "            -3.09684808e-03,  5.95753261e-03,  4.14569697e-03,\n",
       "             1.82543494e-03, -4.59599624e-04, -3.25344678e-03,\n",
       "             5.34317421e-04,  2.42410802e-03,  3.23880934e-03,\n",
       "            -5.55770155e-03,  2.71261542e-03, -5.98524686e-03,\n",
       "            -4.98093789e-03,  1.40240590e-03, -2.44875380e-03,\n",
       "             7.27328165e-03,  1.95997230e-03,  8.32360519e-04,\n",
       "             2.63758021e-03, -1.50781063e-03, -3.84833282e-03,\n",
       "            -2.21199793e-03, -1.17035125e-03,  1.05231550e-03,\n",
       "            -4.47161649e-03, -4.65380522e-03, -7.03596597e-03,\n",
       "             1.41845217e-03,  8.64119629e-03,  5.15065269e-03,\n",
       "            -2.93214802e-04, -6.79178328e-04,  1.78646576e-03,\n",
       "            -2.58070903e-03, -3.29073396e-03,  5.32104297e-03,\n",
       "             5.33486459e-03, -9.02881125e-04, -2.65595707e-03,\n",
       "            -4.60262562e-03, -5.31902319e-03,  5.42167006e-03,\n",
       "            -3.75584484e-03,  4.75457883e-03,  7.88756152e-05,\n",
       "             1.41683188e-03, -4.13721006e-04, -7.70018277e-03,\n",
       "             3.10742197e-03, -3.11276790e-03, -7.87826858e-04,\n",
       "            -8.58813129e-04,  4.24872719e-03,  2.20566041e-03,\n",
       "            -1.19764298e-03, -1.40715816e-03, -8.91678827e-04,\n",
       "            -3.50925468e-03, -2.74249870e-03,  3.60836319e-03,\n",
       "            -3.81287129e-03, -9.89697279e-04,  5.25837222e-04,\n",
       "             5.42101875e-04,  4.50329453e-03,  2.28923846e-03,\n",
       "            -6.42681878e-03, -4.10237763e-03, -3.00025191e-04,\n",
       "             1.76263597e-03, -4.96507094e-04, -5.16576243e-03,\n",
       "            -2.02334079e-03,  5.10527703e-04,  1.28618604e-03,\n",
       "            -3.64567878e-03,  5.98451741e-04,  5.91734243e-03,\n",
       "            -3.83665526e-03, -2.26206748e-03, -2.08694317e-03,\n",
       "            -1.73114065e-03, -2.30937995e-03,  5.44373093e-04,\n",
       "            -3.78456528e-03,  9.03290632e-04,  2.41906790e-04,\n",
       "             1.31036572e-03,  5.65122081e-03,  1.89009560e-03,\n",
       "             1.90595584e-03, -1.64815697e-03, -1.38484011e-03,\n",
       "             7.09790259e-04, -9.06584532e-04, -3.37064454e-03,\n",
       "             2.38752265e-03,  3.88789612e-03,  4.64570765e-03,\n",
       "             3.17072715e-03,  5.57596016e-04,  6.24962687e-04,\n",
       "            -3.13711221e-03, -2.39364978e-03,  9.79125335e-03,\n",
       "            -1.52947831e-03, -2.09802415e-03,  4.46806337e-03,\n",
       "            -1.26832648e-03,  1.13647158e-03, -1.62888250e-04,\n",
       "            -6.51435963e-04,  3.13339624e-03,  2.22462698e-03,\n",
       "            -3.39108286e-04, -2.35392340e-04, -2.38976545e-03,\n",
       "            -1.55620190e-04, -8.67187863e-04,  8.94090370e-03,\n",
       "             3.71113868e-03,  5.32692879e-03, -5.02850372e-03,\n",
       "             7.45627970e-03, -3.95851124e-03, -4.57266625e-03,\n",
       "            -4.04426830e-03, -1.64408339e-03, -5.07407737e-04,\n",
       "            -4.31681591e-03,  5.02798935e-03,  4.92271944e-03,\n",
       "            -3.95888472e-03, -2.92015008e-03, -5.42617232e-03,\n",
       "            -2.13084223e-03, -4.88347719e-03,  5.38273528e-03,\n",
       "             2.27967685e-03,  3.08779908e-03,  3.86495796e-03,\n",
       "            -1.87348760e-03,  2.47344278e-03,  3.26706124e-04,\n",
       "            -4.75159855e-03,  2.73573252e-03, -5.16457282e-03,\n",
       "            -1.79312229e-04,  2.20124854e-04,  1.37769531e-03,\n",
       "            -2.80139938e-03, -5.43899832e-03, -1.91534173e-03,\n",
       "             4.11475771e-03, -2.89203123e-03,  8.56802259e-03,\n",
       "            -1.28088069e-04,  1.56338729e-03,  1.51260570e-03,\n",
       "             3.88338434e-04,  4.79605221e-05,  3.53679868e-03,\n",
       "             2.06283261e-03, -1.45909589e-03, -3.12832026e-03,\n",
       "             4.38329785e-03, -3.46897557e-03, -2.63789856e-03,\n",
       "            -3.90693250e-03, -3.97829402e-04,  2.77786882e-03,\n",
       "             1.58021862e-03,  3.63792050e-04, -8.64829808e-04,\n",
       "            -2.25515135e-03,  4.02478220e-04, -2.43508560e-03,\n",
       "             3.52371831e-03, -7.47196971e-03,  1.04414620e-03,\n",
       "             2.22212536e-03, -7.20697793e-04, -2.45897083e-03,\n",
       "             2.49276432e-03,  1.33747212e-03,  2.15298586e-03,\n",
       "             4.36873986e-04, -2.31213626e-03, -1.96009303e-03,\n",
       "             2.78659051e-05,  9.97986751e-04, -1.37514356e-03,\n",
       "             6.18519672e-04,  2.57181549e-03, -2.77940484e-03,\n",
       "            -1.71090534e-03,  4.52292286e-04,  4.63214048e-03,\n",
       "             2.27147106e-03, -1.13654098e-03, -3.78698445e-04,\n",
       "            -3.11854067e-03, -4.25632645e-03, -2.83872156e-03,\n",
       "            -3.58230715e-03,  1.36616048e-03,  2.37346447e-04,\n",
       "             6.22907911e-04, -7.85244746e-03, -4.17247665e-03,\n",
       "             4.11407596e-03,  3.33619576e-04,  2.75153169e-03,\n",
       "            -6.06257999e-03,  3.17486829e-03,  2.02825478e-03,\n",
       "            -2.60868535e-03,  9.25164955e-04, -3.43033203e-03,\n",
       "            -2.89919704e-03, -4.09174990e-04,  3.68198657e-03,\n",
       "            -2.31318257e-03, -1.91987084e-03,  5.57931492e-03,\n",
       "             2.10657737e-04, -3.61999254e-05, -1.06152479e-03,\n",
       "            -5.30172614e-04,  5.58033222e-04, -6.37770980e-04,\n",
       "            -3.48157135e-03, -4.15030046e-03,  6.20171044e-03,\n",
       "            -1.68002836e-03,  1.16497450e-03, -9.61951231e-04,\n",
       "            -4.35293354e-04,  5.38717780e-03, -1.88430823e-03,\n",
       "             1.01924541e-03,  8.61824726e-04, -6.82393197e-03,\n",
       "             3.90119221e-03,  7.55568648e-03,  3.65653852e-04,\n",
       "             4.92646721e-04, -5.20177060e-03, -1.48598593e-03,\n",
       "             2.25165110e-03, -5.08252683e-04,  4.91917279e-03,\n",
       "            -2.00654740e-03, -5.12645620e-03, -1.36697088e-03,\n",
       "             1.71876155e-04, -4.29046676e-03, -1.46466592e-03,\n",
       "             1.61432490e-03,  4.39810378e-05, -4.25294639e-03,\n",
       "             6.58633697e-04, -9.57049837e-04, -5.59690209e-04,\n",
       "             5.05292709e-03, -9.49972843e-04, -5.44678879e-03,\n",
       "             4.70857812e-03, -1.57672956e-03,  3.53983840e-04,\n",
       "             2.90666764e-03,  1.83678470e-03, -1.99860442e-03,\n",
       "            -1.77001063e-03,  4.89037377e-04, -5.70292185e-03,\n",
       "            -6.26480740e-03,  8.21476667e-03, -3.33279758e-03,\n",
       "            -4.22280653e-03, -8.64473237e-03, -3.63621775e-03,\n",
       "            -1.69781624e-03, -6.33723316e-03,  2.11899974e-03,\n",
       "             4.85074107e-04,  5.71873188e-03,  5.48727936e-03,\n",
       "             1.93120711e-03,  2.95864956e-04, -9.44269066e-05,\n",
       "            -5.21700720e-04,  1.23602462e-03,  5.19108897e-05,\n",
       "             2.02882841e-03, -7.32829512e-03, -4.77079337e-04,\n",
       "            -5.88027464e-04,  3.02340984e-03, -2.20869886e-03,\n",
       "             6.14616265e-03,  2.85863517e-03, -7.08283705e-03,\n",
       "             1.05560696e-04, -7.72952298e-04, -4.04905993e-03,\n",
       "             5.03872939e-04,  4.93988953e-04,  9.88795039e-04,\n",
       "            -2.06014401e-03,  1.00657534e-03, -1.75612530e-03,\n",
       "            -1.85909210e-03,  2.21817881e-03,  1.82715073e-03,\n",
       "             6.28346633e-03, -4.56927522e-04,  2.32016946e-03,\n",
       "             6.00651222e-03,  2.53700932e-03,  9.98079368e-04,\n",
       "            -1.03176394e-04,  7.35274853e-04, -6.98199805e-03,\n",
       "            -9.16115969e-04,  6.45698225e-04,  1.62604929e-03,\n",
       "             2.66098402e-03,  3.70428764e-03, -7.82198847e-04,\n",
       "            -8.47965960e-04,  3.23666349e-03, -1.59826040e-03,\n",
       "             5.05536239e-03,  2.06841145e-03,  3.27719010e-03,\n",
       "             8.95969101e-04,  8.63876298e-03,  1.45719432e-03,\n",
       "             1.80034477e-03,  2.07483688e-03, -2.26333190e-03,\n",
       "            -1.10629060e-03,  4.12859785e-04, -1.98146988e-03,\n",
       "             3.71290968e-03,  3.38509571e-03,  1.87932651e-03,\n",
       "            -2.43484909e-03, -5.15936175e-04,  3.64647495e-03,\n",
       "             3.00619401e-03,  5.55072833e-03,  1.34482597e-03,\n",
       "             4.60569099e-03, -4.57516013e-03, -3.92141685e-03,\n",
       "            -4.60506633e-03, -3.11358609e-04, -8.70138355e-04,\n",
       "            -1.29490291e-03, -4.67971735e-03, -2.11539100e-04,\n",
       "            -1.32910432e-04, -6.96057079e-04,  2.88254244e-03,\n",
       "             9.23712925e-04,  5.50121447e-03,  6.17276002e-03,\n",
       "            -1.42382268e-03,  1.25530138e-03,  3.50985799e-03,\n",
       "             1.65844469e-03, -1.15588521e-03,  2.68434150e-03,\n",
       "             4.21168544e-03,  1.61598380e-03, -4.15414449e-03,\n",
       "            -5.86913663e-03, -2.26651854e-03, -3.54706011e-04,\n",
       "             6.84139670e-04,  3.41263291e-03, -2.70450800e-03,\n",
       "            -3.02535287e-03,  5.20071430e-03, -2.12003296e-03,\n",
       "             4.46172116e-03,  6.81614731e-03,  4.47517484e-03,\n",
       "            -7.68156048e-03,  4.75087885e-03, -2.94842990e-03,\n",
       "             1.76451244e-03,  2.14115960e-03, -3.23580505e-03,\n",
       "             5.00197088e-03,  9.61939984e-04, -2.93819077e-03,\n",
       "            -4.77822056e-04, -3.92987474e-03, -1.94499328e-03,\n",
       "            -1.05161475e-03, -1.49579220e-03,  5.72320177e-03,\n",
       "            -1.37965710e-03,  1.94078448e-03,  5.07139787e-04,\n",
       "            -2.55393099e-03]>"
      ]
     },
     "execution_count": 280,
     "metadata": {},
     "output_type": "execute_result"
    }
   ],
   "source": [
    "zv_dist.cgs"
   ]
  },
  {
   "cell_type": "code",
   "execution_count": 495,
   "metadata": {},
   "outputs": [
    {
     "data": {
      "image/png": "[encoded data removed]",
      "text/plain": [
       "<matplotlib.figure.Figure at 0x151700b278>"
      ]
     },
     "metadata": {},
     "output_type": "display_data"
    }
   ],
   "source": [
    "plt.figure(figsize=(5,5))\n",
    "plt.scatter( z_dist.cgs + zv_dist.cgs, angle_dist, s=1 )\n",
    "\n",
    "plt.xlabel(r'$z$ [redshift]')\n",
    "plt.ylabel(r'$\\theta$ [degrees]')\n",
    "\n",
    "plt.ylim(-3*sig_angle.value, 3*sig_angle.value)\n",
    "plt.xlim(z_mean.cgs - 0.015, z_mean.cgs + 0.015)\n",
    "plt.savefig('1c.png')"
   ]
  },
  {
   "cell_type": "markdown",
   "metadata": {},
   "source": [
    "This plot differs from the previous one because now the redshift includes the velocity component as well as the cosmological component. Clearly, the velocity dispersion dominates, which shows the cluster is still bound."
   ]
  },
  {
   "cell_type": "markdown",
   "metadata": {},
   "source": [
    "### d)"
   ]
  },
  {
   "cell_type": "markdown",
   "metadata": {},
   "source": [
    "Recall $z_{mean} = H_0*d_{mean}/c$. At what $d_{mean}$ would $\\sigma_z /z = 0.05$?"
   ]
  },
  {
   "cell_type": "code",
   "execution_count": 321,
   "metadata": {},
   "outputs": [
    {
     "data": {
      "text/latex": [
       "$0.050009107 \\; \\mathrm{}$"
      ],
      "text/plain": [
       "<Quantity 0.05000910720668354>"
      ]
     },
     "execution_count": 321,
     "metadata": {},
     "output_type": "execute_result"
    }
   ],
   "source": [
    "np.sqrt(sig_z**2 + (sig_v/c)**2)/(H0*2.8974*d_mean/c)"
   ]
  },
  {
   "cell_type": "code",
   "execution_count": 324,
   "metadata": {},
   "outputs": [],
   "source": [
    "d_5percent = 2.8974*d_mean"
   ]
  },
  {
   "cell_type": "code",
   "execution_count": 325,
   "metadata": {},
   "outputs": [],
   "source": [
    "z_5percent = d_5percent*H0/c"
   ]
  },
  {
   "cell_type": "code",
   "execution_count": 327,
   "metadata": {},
   "outputs": [
    {
     "data": {
      "text/latex": [
       "$0.066976275 \\; \\mathrm{}$"
      ],
      "text/plain": [
       "<Quantity 0.06697627463329982>"
      ]
     },
     "execution_count": 327,
     "metadata": {},
     "output_type": "execute_result"
    }
   ],
   "source": [
    "z_5percent.cgs"
   ]
  },
  {
   "cell_type": "markdown",
   "metadata": {},
   "source": [
    "# 2."
   ]
  },
  {
   "cell_type": "code",
   "execution_count": 365,
   "metadata": {
    "collapsed": true
   },
   "outputs": [],
   "source": [
    "r_halo = 50 * u.kpc\n",
    "v_circ = 220 * u.km * u.s**-1\n",
    "G = const.G"
   ]
  },
  {
   "cell_type": "markdown",
   "metadata": {},
   "source": [
    "Recall $2KE = -PE = v^2 = GM/r$. What is the total mass and mean density of MW? Then, what is its radius and mean density at the onset of protogalactic collapse?"
   ]
  },
  {
   "cell_type": "code",
   "execution_count": 415,
   "metadata": {},
   "outputs": [
    {
     "data": {
      "text/latex": [
       "$5.6267067 \\times 10^{11} \\; \\mathrm{M_{\\odot}}$"
      ],
      "text/plain": [
       "<Quantity 562670669543.1569 solMass>"
      ]
     },
     "execution_count": 415,
     "metadata": {},
     "output_type": "execute_result"
    }
   ],
   "source": [
    "M = v_circ**2 * r_halo / G\n",
    "M.cgs.to(u.Msun)"
   ]
  },
  {
   "cell_type": "code",
   "execution_count": 416,
   "metadata": {},
   "outputs": [],
   "source": [
    "dens_mean = M.cgs/( (4/3)*np.pi*r_halo.cgs**3 )"
   ]
  },
  {
   "cell_type": "code",
   "execution_count": 417,
   "metadata": {},
   "outputs": [
    {
     "data": {
      "text/latex": [
       "$7.2731785 \\times 10^{-26} \\; \\mathrm{\\frac{g}{cm^{3}}}$"
      ],
      "text/plain": [
       "<Quantity 7.273178481266326e-26 g / cm3>"
      ]
     },
     "execution_count": 417,
     "metadata": {},
     "output_type": "execute_result"
    }
   ],
   "source": [
    "dens_mean"
   ]
  },
  {
   "cell_type": "markdown",
   "metadata": {},
   "source": [
    "The onset of protogalactic collapse happens at twice the turnaround time, which is defined by linear growth for our density perturbation. We can say that because perturbations at low z result in linear growth, as discussed in class."
   ]
  },
  {
   "cell_type": "code",
   "execution_count": 418,
   "metadata": {},
   "outputs": [
    {
     "data": {
      "text/latex": [
       "$100 \\; \\mathrm{kpc}$"
      ],
      "text/plain": [
       "<Quantity 100.0 kpc>"
      ]
     },
     "execution_count": 418,
     "metadata": {},
     "output_type": "execute_result"
    }
   ],
   "source": [
    "r_turn = 2*r_halo\n",
    "r_turn"
   ]
  },
  {
   "cell_type": "code",
   "execution_count": 419,
   "metadata": {},
   "outputs": [
    {
     "data": {
      "text/latex": [
       "$9.0914731 \\times 10^{-27} \\; \\mathrm{\\frac{g}{cm^{3}}}$"
      ],
      "text/plain": [
       "<Quantity 9.091473101582907e-27 g / cm3>"
      ]
     },
     "execution_count": 419,
     "metadata": {},
     "output_type": "execute_result"
    }
   ],
   "source": [
    "dens_turn = dens_mean/8\n",
    "dens_turn"
   ]
  },
  {
   "cell_type": "markdown",
   "metadata": {},
   "source": [
    "### b)"
   ]
  },
  {
   "cell_type": "code",
   "execution_count": 440,
   "metadata": {},
   "outputs": [],
   "source": [
    "h = 0.7 #H0 / (100 * u.km * u.s**-1 / u.Mpc)\n",
    "\n",
    "\n",
    "z_vir = (v_circ/(127 * u.km * u.s**-1))**2 / (M/ (10**12 * h**-1 * u.Msun))**(2/3) - 1"
   ]
  },
  {
   "cell_type": "code",
   "execution_count": 441,
   "metadata": {},
   "outputs": [
    {
     "data": {
      "text/latex": [
       "$4.5847411 \\; \\mathrm{}$"
      ],
      "text/plain": [
       "<Quantity 4.584741060236701>"
      ]
     },
     "execution_count": 441,
     "metadata": {},
     "output_type": "execute_result"
    }
   ],
   "source": [
    "z_vir"
   ]
  },
  {
   "cell_type": "code",
   "execution_count": 442,
   "metadata": {},
   "outputs": [],
   "source": [
    "z_turn = (2**(2/3)) * (1 + z_vir) - 1"
   ]
  },
  {
   "cell_type": "code",
   "execution_count": 443,
   "metadata": {},
   "outputs": [
    {
     "data": {
      "text/latex": [
       "$7.8652238 \\; \\mathrm{}$"
      ],
      "text/plain": [
       "<Quantity 7.865223833989736>"
      ]
     },
     "execution_count": 443,
     "metadata": {},
     "output_type": "execute_result"
    }
   ],
   "source": [
    "z_turn"
   ]
  },
  {
   "cell_type": "markdown",
   "metadata": {},
   "source": [
    "Collapse began at redshift 7.8!"
   ]
  },
  {
   "cell_type": "markdown",
   "metadata": {},
   "source": [
    "# 3."
   ]
  },
  {
   "cell_type": "code",
   "execution_count": 450,
   "metadata": {
    "collapsed": true
   },
   "outputs": [],
   "source": [
    "D = 2.1 * u.arcsec\n",
    "z_source = 1.74\n",
    "z_lens = 0.25\n",
    "\n",
    "d_S = 1774.8 * u.Mpc\n",
    "d_L = 813.2 * u.Mpc\n",
    "\n",
    "D_S = d_S*(1+z_source) # co-moving\n",
    "D_L = d_L*(1+z_lens) # co-moving\n",
    "\n",
    "D_LS = (d_S - d_L)*(1+z_source)"
   ]
  },
  {
   "cell_type": "code",
   "execution_count": 451,
   "metadata": {},
   "outputs": [
    {
     "name": "stdout",
     "output_type": "stream",
     "text": [
      "4862.952 Mpc\n",
      "1016.5 Mpc\n",
      "2634.784 Mpc\n"
     ]
    }
   ],
   "source": [
    "print(D_S)\n",
    "print(D_L)\n",
    "print(D_LS)"
   ]
  },
  {
   "cell_type": "markdown",
   "metadata": {},
   "source": [
    "### a) What is the mass of the lensing galaxy?"
   ]
  },
  {
   "cell_type": "code",
   "execution_count": 459,
   "metadata": {},
   "outputs": [
    {
     "data": {
      "text/latex": [
       "$1.0159469 \\times 10^{12} \\; \\mathrm{M_{\\odot}}$"
      ],
      "text/plain": [
       "<Quantity 1015946871271.7924 solMass>"
      ]
     },
     "execution_count": 459,
     "metadata": {},
     "output_type": "execute_result"
    }
   ],
   "source": [
    "M = (2.1*u.arcsec.to(u.radian))**2 * (c**2 / (4*G)) * (D_S*D_L/D_LS)\n",
    "M.to(u.Msun)"
   ]
  },
  {
   "cell_type": "markdown",
   "metadata": {},
   "source": [
    "### b)"
   ]
  },
  {
   "cell_type": "code",
   "execution_count": 467,
   "metadata": {
    "collapsed": true
   },
   "outputs": [],
   "source": [
    "z_quasar = 2.727\n",
    "z_galaxy = 0.493\n",
    "\n",
    "d_S = 1662.9 * u.Mpc\n",
    "d_L = 1262.8 * u.Mpc\n",
    "\n",
    "D_S = d_S*(1+z_quasar) # co-moving\n",
    "D_L = d_L*(1+z_galaxy) # co-moving\n",
    "\n",
    "D_LS = (d_S - d_L)*(1+z_source)"
   ]
  },
  {
   "cell_type": "code",
   "execution_count": 488,
   "metadata": {},
   "outputs": [],
   "source": [
    "theta_galaxy = 0.0 * u.arcsec\n",
    "theta_1 = theta_galaxy - 0.8 * u.arcsec\n",
    "theta_2 = theta_1 + 2.22 * u.arcsec\n",
    "\n",
    "num = theta_1 - theta_2\n",
    "den = theta_1**-1 - theta_2**-1\n",
    "frac = num.to(u.radian).value * (1/den).to(u.radian).value"
   ]
  },
  {
   "cell_type": "code",
   "execution_count": 489,
   "metadata": {},
   "outputs": [],
   "source": [
    "M = frac * (c**2/(4*G)) * D_S*D_L/D_LS"
   ]
  },
  {
   "cell_type": "code",
   "execution_count": 492,
   "metadata": {},
   "outputs": [
    {
     "data": {
      "text/latex": [
       "$1.4867885 \\times 10^{12} \\; \\mathrm{M_{\\odot}}$"
      ],
      "text/plain": [
       "<Quantity 1486788466802.478 solMass>"
      ]
     },
     "execution_count": 492,
     "metadata": {},
     "output_type": "execute_result"
    }
   ],
   "source": [
    "M.to(u.Msun)"
   ]
  }
 ],
 "metadata": {
  "kernelspec": {
   "display_name": "Python 3",
   "language": "python",
   "name": "python3"
  },
  "language_info": {
   "codemirror_mode": {
    "name": "ipython",
    "version": 3
   },
   "file_extension": ".py",
   "mimetype": "text/x-python",
   "name": "python",
   "nbconvert_exporter": "python",
   "pygments_lexer": "ipython3",
   "version": "3.6.4"
  }
 },
 "nbformat": 4,
 "nbformat_minor": 2
}
