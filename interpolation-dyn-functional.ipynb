{
 "cells": [
  {
   "cell_type": "code",
   "execution_count": 1,
   "metadata": {
    "collapsed": true
   },
   "outputs": [],
   "source": [
    "import numpy as np\n",
    "import sympy as sym\n",
    "import scipy.optimize as opt\n",
    "import matplotlib.pyplot as plt\n",
    "%matplotlib inline"
   ]
  },
  {
   "cell_type": "code",
   "execution_count": 2,
   "metadata": {
    "collapsed": true
   },
   "outputs": [],
   "source": [
    "## Definitions for pressure/mass/etc function evaluations\n",
    "\n",
    "# Define Hermite basis functions\n",
    "\n",
    "def H3 (n, t):\n",
    "    \n",
    "    if n == 0:\n",
    "        return 1 - 3*t**2 + 2*t**3\n",
    "    elif n == 1:\n",
    "        return t - 2*t**2 + t**3\n",
    "    elif n == 2:\n",
    "        return -t**2 + t**3\n",
    "    elif n == 3:\n",
    "        return 3*t**2 - 2*t**3\n",
    "    else:\n",
    "        raise Exception('Invalid n')\n",
    "        \n",
    "        \n",
    "# Define the interval mapping function\n",
    "\n",
    "def tau_func (x_ab):\n",
    "    \n",
    "    x_f = sym.Symbol('x')\n",
    "    \n",
    "    return (x_f - x_ab[0])/(x_ab[1] - x_ab[0])\n",
    "\n",
    "\n",
    "# Define the pressure interpolating function\n",
    "\n",
    "def P_func (x_ab, P_ab, dP_ab):\n",
    "    \n",
    "    x_f = sym.Symbol('x')\n",
    "    t_f = tau_func(x_ab)\n",
    "    h = x_ab[1] - x_ab[0]\n",
    "    \n",
    "    return P_ab[0]*H3(0, t_f) + h*dP_ab[0]*H3(1, t_f) + h*dP_ab[1]*H3(2, t_f) + P_ab[1]*H3(3, t_f)\n",
    "\n",
    "\n",
    "# Define the pressure gradient interpolating function\n",
    "\n",
    "def dP_func (x_ab, P_ab, dP_ab):\n",
    "    \n",
    "    x_f = sym.Symbol('x')\n",
    "    P_f = P_func(x_ab, P_ab, dP_ab)\n",
    "\n",
    "    return sym.diff(P_f, x_f)\n",
    "\n",
    "\n",
    "# Define the mass-squared interpolating function\n",
    "\n",
    "def m2_func (x_ab, P_ab, dP_ab, m2_a):\n",
    "    \n",
    "    x_f = sym.Symbol('x')\n",
    "    dP_f = dP_func(x_ab, P_ab, dP_ab)\n",
    "    \n",
    "    dm2_f = -8*np.pi*sym.integrate(x_f**4*dP_f, x_f)\n",
    "        \n",
    "    return m2_a + dm2_f - dm2_f.evalf(subs={x_f:x_ab[0]})\n",
    "\n",
    "\n",
    "# Define the mass interpolating function\n",
    "\n",
    "def m_func (x_ab, P_ab, dP_ab, m2_a):\n",
    "    \n",
    "    m2_f = m2_func(x_ab, P_ab, dP_ab, m2_a)\n",
    "        \n",
    "    return sym.sqrt(m2_f)\n",
    "    \n",
    "\n",
    "# Define the density interpolating function\n",
    "\n",
    "def rho_func (x_ab, P_ab, dP_ab, m2_a):\n",
    "    \n",
    "    x_f = sym.Symbol('x')\n",
    "    dP_f = dP_func(x_ab, P_ab, dP_ab)\n",
    "    m_f = m_func(x_ab, P_ab, dP_ab, m2_a)\n",
    "    \n",
    "    return -dP_f*x_f**2/m_f #sym.diff(m_)/(4*np.pi*x_**2)\n"
   ]
  },
  {
   "cell_type": "code",
   "execution_count": 3,
   "metadata": {
    "collapsed": true
   },
   "outputs": [],
   "source": [
    "### Definitions for optimization\n",
    "\n",
    "# Define i'th inequality constraint for pressure gradient\n",
    "\n",
    "def ineq_dP (y, i):\n",
    "    \n",
    "    # Extract pressures and pressure gradients\n",
    "    \n",
    "    n = len(y)//2\n",
    "    \n",
    "    P = y[:n]\n",
    "    dP = y[n:]\n",
    "    \n",
    "    # Set up constraint\n",
    "    \n",
    "    C = -dP[i]\n",
    "    \n",
    "    # Return it\n",
    "    \n",
    "    return C\n",
    "\n",
    "\n",
    "# Define Jacobian of ineq_dP\n",
    "\n",
    "def jac_ineq_dP (y, i):\n",
    "    \n",
    "    # Extract pressures and pressure gradients\n",
    "    \n",
    "    n = len(y)//2\n",
    "    \n",
    "    P = y[:n]\n",
    "    dP = y[n:]\n",
    "    \n",
    "    # Set up constraint Jacobian\n",
    "    \n",
    "    dC = np.zeros(2*n)\n",
    "    dC[n+i] = -1.\n",
    "    \n",
    "    # Return it\n",
    "    \n",
    "    return dC\n",
    "\n",
    "\n",
    "# Define i'th inequality constraint for pressure change\n",
    "\n",
    "def ineq_delP (y, i, left, x_AB):\n",
    "    \n",
    "    # Extract pressures and pressure gradients\n",
    "    \n",
    "    n = len(y)//2\n",
    "    \n",
    "    P = y[:n]\n",
    "    dP = y[n:]\n",
    "    \n",
    "    # Set up positions of points\n",
    "    \n",
    "    x = np.linspace(x_AB[0], x_AB[1], n)\n",
    "    \n",
    "    # Calculate mean pressure slope\n",
    "    \n",
    "    if left:\n",
    "        if i > 0:\n",
    "            delP = (P[i] - P[i-1])/(x[i] - x[i-1])\n",
    "        else:\n",
    "            raise Exception('Mean pressure slope undefined for left=True/i=0')\n",
    "    else:    \n",
    "        if i < n-1:\n",
    "            delP = (P[i+1] - P[i])/(x[i+1] - x[i])\n",
    "        else:\n",
    "            raise Exception('Mean pressure slope undefined for left=False/i=n-1')\n",
    "            \n",
    "    # Set up the constraint\n",
    "    \n",
    "    C = dP[i] - 3*delP\n",
    "        \n",
    "    # Return it\n",
    "    \n",
    "    return C\n",
    "\n",
    "    \n",
    "# Define Jacobian of ineq_delP\n",
    "\n",
    "def jac_ineq_delP (y, i, left, x_AB):\n",
    "    \n",
    "    # Extract pressures and pressure gradients\n",
    "    \n",
    "    n = len(y)//2\n",
    "    \n",
    "    P = y[:n]\n",
    "    dP = y[n:]\n",
    "    \n",
    "    # Set up positions of points\n",
    "    \n",
    "    x = np.linspace(x_AB[0], x_AB[1], n)\n",
    "    \n",
    "    # Set up constraint Jacobian\n",
    "    \n",
    "    dC = np.zeros(2*n)\n",
    "    \n",
    "    if left:\n",
    "        if i > 0:\n",
    "            dC[i-1] = 3/(x[i] - x[i-1])\n",
    "            dC[i] = -3/(x[i] - x[i-1])\n",
    "        else:\n",
    "            raise Exception('Mean pressure slope undefined for left=True/i=0')\n",
    "    else:    \n",
    "        if i < n-1:\n",
    "            dC[i] = 3/(x[i+1] - x[i])\n",
    "            dC[i+1] = -3/(x[i+1] - x[i])\n",
    "        else:\n",
    "            raise Exception('Mean pressure slope undefined for left=False/i=n-1')\n",
    "        \n",
    "    dC[n+i] = 1.\n",
    "    \n",
    "    # Return it\n",
    "    \n",
    "    return dC\n",
    "\n",
    "\n",
    "# Define equality constraints for pressure\n",
    "\n",
    "def eq_P (y, i, P_i):\n",
    "    \n",
    "    # Extract pressures and pressure gradients\n",
    "    \n",
    "    n = len(y)//2\n",
    "    \n",
    "    P = y[:n]\n",
    "    dP = y[n:]\n",
    "     \n",
    "    # Set up the equality constraint\n",
    "    \n",
    "    C = P[i] - P_i\n",
    "    \n",
    "    # Return it\n",
    "    \n",
    "    return C\n",
    "\n",
    "\n",
    "# Define Jacobian of eq_P\n",
    "\n",
    "def jac_eq_P (y, i, P_i):\n",
    "    \n",
    "    # Extract pressures and pressure gradients\n",
    "    \n",
    "    n = len(y)//2\n",
    "    \n",
    "    P = y[:n]\n",
    "    dP = y[n:]\n",
    "     \n",
    "    # Set up the constraint Jacobian\n",
    "    \n",
    "    dC = np.zeros(2*n)\n",
    "    \n",
    "    dC[i] = 1.\n",
    "    \n",
    "    # Return it\n",
    "    \n",
    "    return dC\n",
    "\n",
    "\n",
    "# Define equality constraints for pressure gradient\n",
    "\n",
    "def eq_dP (y, i, dP_i):\n",
    "    \n",
    "    # Extract pressures and pressure gradients\n",
    "    \n",
    "    n = len(y)//2\n",
    "    \n",
    "    P = y[:n]\n",
    "    dP = y[n:]\n",
    "     \n",
    "    # Set up the equality constraint\n",
    "    \n",
    "    C = dP[i] - dP_i\n",
    "    \n",
    "    # Return it\n",
    "    \n",
    "    return C\n",
    "\n",
    "\n",
    "# Define Jacobian of eq_dP\n",
    "\n",
    "def jac_eq_dP (y, i, dP_i):\n",
    "    \n",
    "    # Extract pressures and pressure gradients\n",
    "    \n",
    "    n = len(y)//2\n",
    "    \n",
    "    P = y[:n]\n",
    "    dP = y[n:]\n",
    "     \n",
    "    # Set up the constraint Jacobian\n",
    "    \n",
    "    dC = np.zeros(2*n)\n",
    "    \n",
    "    dC[n+i] = 1.\n",
    "    \n",
    "    # Return it\n",
    "    \n",
    "    return dC\n",
    "\n",
    "\n",
    "# Define the equality constraint for mass conservation\n",
    "\n",
    "def eq_mass (y, x_AB, m2_AB):\n",
    "    \n",
    "    # Extract pressures and pressure gradients\n",
    "    \n",
    "    n = len(y)//2\n",
    "    \n",
    "    P = y[:n]\n",
    "    dP = y[n:]\n",
    "     \n",
    "    # Set up positions of points\n",
    "    \n",
    "    x = np.linspace(x_AB[0], x_AB[1], n)\n",
    "    \n",
    "    # Calculate the mass at the end of the interval\n",
    "    \n",
    "    x_f = sym.Symbol('x')\n",
    "\n",
    "    m2_b = m_AB[0]**2\n",
    "    \n",
    "    for i in range(1, n):\n",
    "        \n",
    "        x_a = x[i-1]\n",
    "        P_a = P[i-1]\n",
    "        dP_a = dP[i-1]\n",
    "            \n",
    "        x_b = x[i]\n",
    "        P_b = P[i]\n",
    "        dP_b = dP[i]\n",
    "        \n",
    "        m2_a = m2_b\n",
    "        \n",
    "        m2_f = m2_func([x_a,x_b], [P_a,P_b], [dP_a,dP_b], m2_a)\n",
    "\n",
    "        m2_b = m2_f.evalf(subs={x_f:x_b})\n",
    "        \n",
    "    # Set up the equality constraint\n",
    "    \n",
    "    C = m2_b - m_AB[1]**2\n",
    "    \n",
    "    # Return it\n",
    "    \n",
    "    return C\n",
    "\n",
    "\n",
    "# Define second derivative variance function (to be minimized)\n",
    "\n",
    "def var_d2P (y, args):\n",
    "    \n",
    "    # Extract pressures and pressure gradients\n",
    "    \n",
    "    n = len(y)//2\n",
    "    \n",
    "    P = y[:n]\n",
    "    dP = y[n:]\n",
    "    \n",
    "    # Unpack extra args\n",
    "    \n",
    "    x_AB = args[0]\n",
    "    \n",
    "    # Set up positions of points\n",
    "    \n",
    "    x = np.linspace(x_AB[0], x_AB[1], n)\n",
    "    \n",
    "    # Evaluate mean second derivative\n",
    "    \n",
    "    mean_d2P = (dP[-1] - dP[0])/(x_AB[1] - x_AB[0])\n",
    "    \n",
    "    # Evaluate second derivative variance\n",
    "    \n",
    "    var_d2P = 0.\n",
    "    \n",
    "    for i in range(1,n):\n",
    "        \n",
    "        # Evaluate d2P at the start and end of the subinterval\n",
    "        \n",
    "        x_a = x[i-1]\n",
    "        P_a = P[i-1]\n",
    "        dP_a = dP[i-1]\n",
    "            \n",
    "        x_b = x[i]\n",
    "        P_b = P[i]\n",
    "        dP_b = dP[i]\n",
    "            \n",
    "        d2P_a =  6*(P_b - P_a)/(x_b - x_a)**2 - 2*(dP_b + 2*dP_a)/(x_b - x_a)\n",
    "        d2P_b = -6*(P_b - P_a)/(x_b - x_a)**2 + 2*(2*dP_b + dP_a)/(x_b - x_a)\n",
    "    \n",
    "        # Add in the integrated contribution to the variance\n",
    "        \n",
    "        var_d2P += (d2P_a**2 + d2P_a*d2P_b + d2P_b**2)*(x_b - x_a)/3\n",
    "            \n",
    "    var_d2P /= (x_AB[1] - x_AB[0])\n",
    "        \n",
    "    # Return it\n",
    "    \n",
    "    return var_d2P\n",
    "\n",
    "\n",
    "# Interval optimization routine for a fixed number (n) of interior points\n",
    "\n",
    "def opt_inter_fix (n, x_AB, P_AB, dP_AB, m_AB):\n",
    "    \n",
    "    # Check that n is positive\n",
    "    \n",
    "    if n < 3:\n",
    "        raise Exception('n is less than 3')\n",
    "\n",
    "    # Check that the boundary pressures are monotonic\n",
    "    \n",
    "    if P_AB[1] > P_AB[0]:\n",
    "        raise Exception('P_b is greater than P_a')\n",
    "\n",
    "    # Check that the boundary slopes are monotonic\n",
    "    \n",
    "    if dP_AB[0] > 0:\n",
    "        raise Exception('dP_a is greater than 0')\n",
    "        \n",
    "    if dP_AB[1] > 0:\n",
    "        raise Exception('dP_b is greater than 0')\n",
    "        \n",
    "    # Set up positions of points\n",
    "    \n",
    "    x = np.linspace(x_AB[0], x_AB[1], n)\n",
    "    \n",
    "    # Set up initial guesses for pressure and pressure slopes\n",
    "    \n",
    "    P = np.linspace(P_AB[0], P_AB[1], n)\n",
    "\n",
    "    dP = np.empty(n)\n",
    "    dP[:] = (P_AB[0] - P_AB[1])/(x_AB[1] - x_AB[0])\n",
    "    \n",
    "    # Set up constraints list\n",
    "    \n",
    "    const_list = []\n",
    "    \n",
    "    # P at boundaries\n",
    "    \n",
    "    const_list += [{'type': 'eq',\n",
    "                    'fun': eq_P,\n",
    "                    'jac': jac_eq_P,\n",
    "                    'args': [0, P_AB[0]]}]\n",
    "\n",
    "    const_list += [{'type': 'eq',\n",
    "                    'fun': eq_P,\n",
    "                    'jac': jac_eq_P,\n",
    "                    'args': [n-1, P_AB[1]]}]\n",
    "    \n",
    "    # dP at boundaries\n",
    "    \n",
    "    const_list += [{'type': 'eq',\n",
    "                    'fun': eq_dP,\n",
    "                    'jac': jac_eq_dP,\n",
    "                    'args': [0, dP_AB[0]]}]\n",
    "\n",
    "    const_list += [{'type': 'eq',\n",
    "                    'fun': eq_dP,\n",
    "                    'jac': jac_eq_dP,\n",
    "                    'args': [n-1, dP_AB[1]]}]\n",
    "    \n",
    "    # dP at points is negative\n",
    "    \n",
    "    for i in range(n):\n",
    "        const_list += [{'type': 'ineq',\n",
    "                        'fun': ineq_dP,\n",
    "                        'jac': jac_ineq_dP,\n",
    "                        'args': [i]}]\n",
    "        \n",
    "    # Pressure in subintervals is monotonic\n",
    "    \n",
    "    for i in range(n):\n",
    "        if i > 0:\n",
    "            const_list += [{'type': 'ineq',\n",
    "                            'fun': ineq_delP,\n",
    "                            'jac': jac_ineq_delP,\n",
    "                            'args': [i, True, x_AB]}]\n",
    "        if i < n-1:\n",
    "            const_list += [{'type': 'ineq',\n",
    "                            'fun': ineq_delP,\n",
    "                            'jac': jac_ineq_delP,\n",
    "                            'args': [i, False, x_AB]}]\n",
    "        \n",
    "    # Mass is conserved\n",
    "    \n",
    "    const_list += [{'type': 'eq',\n",
    "                    'fun': eq_mass,\n",
    "                    'args': [x_AB, m_AB]}]\n",
    "    \n",
    "    # Set up the solution vector\n",
    "    \n",
    "    y = np.append(P, dP)\n",
    "    \n",
    "    # Perform the optimization\n",
    "    \n",
    "    res = opt.minimize(var_d2P, y, [x_AB, P_AB, dP_AB], method='SLSQP', constraints=const_list,\n",
    "                       options={'eps': 1e-6, 'ftol': 1e-12, 'maxiter': 1000, 'disp': True})\n",
    "    \n",
    "    # Set up results data\n",
    "    \n",
    "    if res.success:\n",
    "        \n",
    "        # Pressure and pressure gradient\n",
    "        \n",
    "        P = res.x[:n]\n",
    "        dP = res.x[n:]\n",
    "        \n",
    "        # Mass and density\n",
    "        \n",
    "        m2 = np.empty(n)\n",
    "        rho = np.empty(n)\n",
    "\n",
    "        x_f = sym.Symbol('x')\n",
    "\n",
    "        m2[0] = m_AB[0]**2\n",
    "        \n",
    "        \n",
    "        P_f = P_func( [x[0],x[1]], [P[0],P[1]], [dP[0],dP[1]], )\n",
    "        coeff = sym.Poly(P_f).all_coeffs()[1]\n",
    "        rho[0] = 3/(4*np.pi)*(-8*np.pi*coeff/3)**0.5\n",
    "        \n",
    "        for i in range(1, n):\n",
    "\n",
    "            x_ab = [x[i-1],x[i]]\n",
    "            P_ab = [P[i-1],P[i]]\n",
    "            dP_ab = [dP[i-1],dP[i]]\n",
    "            \n",
    "            m2_a = m2[i-1]\n",
    "\n",
    "            m2_f = m2_func(x_ab, P_ab, dP_ab, m2_a)\n",
    "            rho_f = rho_func(x_ab, P_ab, dP_ab, m2_a)\n",
    "            \n",
    "            m2[i] = m2_f.evalf(subs={x_f:x_ab[1]})\n",
    "            rho[i] = rho_f.evalf(subs={x_f:x_ab[1]})\n",
    "            \n",
    "    else:\n",
    "        \n",
    "        x = None\n",
    "        P = None\n",
    "        dP = None\n",
    "        m2 = None\n",
    "        rho = None\n",
    "        \n",
    "    #print('m_a = ', rho[0]*(4*np.pi/3)*(x[-1]**3 - x[0]**3))\n",
    "    #print('m_int = ',np.sqrt(m2[1]) )\n",
    "    #print('m_b = ', rho[-1]*(4*np.pi/3)*(x[-1]**3 - x[0]**3))\n",
    "    \n",
    "    #print('rho_a = ', rho[0])\n",
    "    #print('rho_int = ', rho[1])\n",
    "    #print('rho_b = ', rho[-1])\n",
    "        \n",
    "    return x, P, dP, m2, rho, res.fun, n\n",
    "\n",
    "\n",
    "# Plot data\n",
    "\n",
    "def plot_data (x, P, dP, m2, rho, n_over=25):\n",
    "    \n",
    "    # Check on x, P and dP\n",
    "    \n",
    "    if x is None:\n",
    "        raise Exception('x is None')\n",
    "    if P is None:\n",
    "        raise Exception('P is None')\n",
    "    if dP is None:\n",
    "        raise Exception('dP is None')\n",
    "    if m2 is None:\n",
    "        raise Exception('m2 is None')\n",
    "    if rho is None:\n",
    "        raise Exception('rho is None')\n",
    "        \n",
    "    # Set up interpolation functions\n",
    "    \n",
    "    n = len(P)\n",
    "    \n",
    "    x_f = sym.Symbol('x')\n",
    "    \n",
    "    P_f = []\n",
    "    dP_f = []\n",
    "    m2_f = []\n",
    "    rho_f = []\n",
    "    \n",
    "    for j in range(1, n):\n",
    "        \n",
    "        x_ab = [x[j-1],x[j]]\n",
    "        P_ab = [P[j-1],P[j]]\n",
    "        dP_ab = [dP[j-1],dP[j]]\n",
    "        m2_a = m2[j-1]\n",
    "        \n",
    "        P_f += [sym.lambdify(x_f, P_func(x_ab, P_ab, dP_ab), 'numpy')]\n",
    "        dP_f += [sym.lambdify(x_f, dP_func(x_ab, P_ab, dP_ab), 'numpy')]\n",
    "        m2_f += [sym.lambdify(x_f, m2_func(x_ab, P_ab, dP_ab, m2_a), 'numpy')]\n",
    "        rho_f += [sym.lambdify(x_f, rho_func(x_ab, P_ab, dP_ab, m2_a), 'numpy')]\n",
    "    \n",
    "    # Set up the interpolation x\n",
    "    \n",
    "    xi = np.linspace(x[0], x[-1], (n-1)*n_over+1)\n",
    "    \n",
    "    ni = len(xi)\n",
    "    \n",
    "    # Calculate the interpolated pressure, pressure gradient and mass\n",
    "    \n",
    "    Pi = np.empty(ni)\n",
    "    dPi = np.empty(ni)\n",
    "    m2i = np.empty(ni)\n",
    "    rhoi = np.empty(ni)\n",
    "    \n",
    "    for i in range(ni):\n",
    "\n",
    "        j = np.where(xi[i] >= x[:n-1])[0][-1]\n",
    "\n",
    "        Pi[i] = P_f[j](xi[i])\n",
    "        dPi[i] = dP_f[j](xi[i])\n",
    "        m2i[i] = m2_f[j](xi[i])\n",
    "\n",
    "        if xi[i] > 0:\n",
    "            rhoi[i] = rho_f[j](xi[i])\n",
    "        if xi[i] == 0:\n",
    "            Pi_f = P_func( [x[j],x[j+1]], [P[j],P[j+1]], [dP[j],dP[j+1]] )\n",
    "            coeff = sym.Poly(Pi_f).all_coeffs()[1]\n",
    "            rhoi[i] = 3/(4*np.pi)*(-8*np.pi*coeff/3)**0.5\n",
    "            \n",
    "            \n",
    "    # Do the plot\n",
    "\n",
    "    fig, ax = plt.subplots(2,2, figsize=[10,6])\n",
    "\n",
    "    ax[0][0].plot(xi, Pi)\n",
    "    ax[0][0].scatter(x, P)\n",
    "    ax[0][0].set_xlabel('x')\n",
    "    ax[0][0].set_ylabel('P')\n",
    "    \n",
    "    ax[1][0].plot(xi, dPi)\n",
    "    ax[1][0].scatter(x, dP)\n",
    "    ax[1][0].set_xlabel('x')\n",
    "    ax[1][0].set_ylabel('dP/dx')\n",
    "    \n",
    "    ax[0][1].plot(xi, np.sqrt(m2i))\n",
    "    ax[0][1].scatter(x, np.sqrt(m2), color='orange')\n",
    "    ax[0][1].set_xlabel('x')\n",
    "    ax[0][1].set_ylabel(r'$m$')\n",
    "    \n",
    "    ax[1][1].plot(xi, rhoi)\n",
    "    ax[1][1].scatter(x, rho, color='orange')\n",
    "    ax[1][1].set_xlabel('x')\n",
    "    ax[1][1].set_ylabel(r'$\\rho$')\n",
    "    \n",
    "    fig.tight_layout()\n",
    "    fig.savefig('pch.png')\n",
    "    \n",
    "    return \n",
    "    "
   ]
  },
  {
   "cell_type": "code",
   "execution_count": 4,
   "metadata": {
    "collapsed": true
   },
   "outputs": [],
   "source": [
    "# Interval optimization routine for a dynamic number of interior points\n",
    "\n",
    "def opt_inter_dyn (n_max, x_AB, P_AB, dP_AB, m2_AB):\n",
    "    \n",
    "    # Loop over n until we find a solution, or an upper limit is reached\n",
    "    \n",
    "    n_upper = n_max\n",
    "    fmin = [0,0]\n",
    "    \n",
    "    for n in range(1+2, n_upper+1):\n",
    "        \n",
    "        x, P, dP, m2, rho, fmin[0], _ = opt_inter_fix(n, x_AB, P_AB, dP_AB, m2_AB)\n",
    "        \n",
    "        # Check for completion\n",
    "        \n",
    "        if x is not None:\n",
    "            \n",
    "            if n==3:\n",
    "                \n",
    "                # First solution, no other solution to check against. Continue optimizing.\n",
    "                \n",
    "                fmin[1] = fmin[0]\n",
    "                \n",
    "            elif n==n_upper:\n",
    "                \n",
    "                # Last solution, no optimum found. Return this best solution.\n",
    "                \n",
    "                print('Max n was best n. Re-attempt higher n.')\n",
    "                return x, P, dP, m2, rho\n",
    "                \n",
    "            else:\n",
    "                \n",
    "                if fmin[0] < fmin[1]:\n",
    "                    \n",
    "                    # If current solution less than previous solution, good. Continue optimizing.\n",
    "                    \n",
    "                    fmin[1] = fmin[0]\n",
    "                \n",
    "                else:\n",
    "                    \n",
    "                    # If current solution greater than previous, the previous was optimal.\n",
    "                    \n",
    "                    print(\"min func value = \",fmin[1])\n",
    "                    print(\"num points = \", n-1)\n",
    "                    \n",
    "                    x, P, dP, m2, rho, _, _ = opt_inter_fix(n-1, x_AB, P_AB, dP_AB, m2_AB)\n",
    "    \n",
    "                    return x, P, dP, m2, rho\n",
    "            \n",
    "    # Return a null result\n",
    "    \n",
    "    return None, None, None, None, None\n",
    "\n",
    "# This counts upward from low number of points to high number. Let's try reversing this..."
   ]
  },
  {
   "cell_type": "code",
   "execution_count": 5,
   "metadata": {
    "collapsed": true
   },
   "outputs": [],
   "source": [
    "# Interval optimization routine for a dynamic number of interior points\n",
    "\n",
    "def opt_inter_dyn_min (n_max, x_AB, P_AB, dP_AB, m2_AB):\n",
    "    \n",
    "    # Loop over n as long as we find a solution, until a lower limit is reached\n",
    "    \n",
    "    n_min = n_max+1\n",
    "    \n",
    "    nrange = range(1+2, n_max+1)[::-1]\n",
    "    \n",
    "    for n in nrange:\n",
    "        \n",
    "        x, P, dP, m2, rho, f_min, _ = opt_inter_fix(n, x_AB, P_AB, dP_AB, m2_AB)\n",
    "        \n",
    "        # Check for completion\n",
    "        \n",
    "        if x is not None:\n",
    "            \n",
    "            # If n > 3, set n_min = n+1 and continue\n",
    "            \n",
    "            if n > nrange[-1]:\n",
    "                \n",
    "                n_min = n\n",
    "                \n",
    "                print(f'n={n}. Solution found.')\n",
    "                \n",
    "                continue\n",
    "            \n",
    "            # If n loops down to 3, n_min = 2+1.\n",
    "                \n",
    "            else:\n",
    "                \n",
    "                n_min = n\n",
    "                \n",
    "                print(f'n={n_min}. Solution found at n_min.')\n",
    "                \n",
    "                return x, P, dP, m2, rho, f_min, n_min\n",
    "                \n",
    "        # Else if x *is* none...\n",
    "        \n",
    "        else:\n",
    "            \n",
    "            # If n_min has been found\n",
    "            \n",
    "            if n_min < n_max+1:\n",
    "                \n",
    "                print(f'n_min={n_min}. Returning solution.')\n",
    "                \n",
    "                x, P, dP, m2, rho, f_min, _ = opt_inter_fix(n_min, x_AB, P_AB, dP_AB, m2_AB)\n",
    "                \n",
    "                return x, P, dP, m2, rho, f_min, n_min\n",
    "                \n",
    "            # If n_min has not been found\n",
    "                \n",
    "            else:\n",
    "                \n",
    "                print('No min found.')\n",
    "                \n",
    "                #break\n",
    "            \n",
    "            # If n is still looping\n",
    "            \n",
    "            if n > nrange[-1]:\n",
    "                \n",
    "                print(f'n={n}. x is none. Continue searching.')\n",
    "                \n",
    "            # If n has stopped and still no solution was found.\n",
    "                \n",
    "            else:\n",
    "                \n",
    "                print(f'n={n}. x is none. No solutions found.')\n",
    "                \n",
    "                break\n",
    "        \n",
    "    # Return a null result\n",
    "    \n",
    "    return None, None, None, None, None, None, None"
   ]
  },
  {
   "cell_type": "markdown",
   "metadata": {},
   "source": [
    "eta=0"
   ]
  },
  {
   "cell_type": "code",
   "execution_count": 6,
   "metadata": {},
   "outputs": [
    {
     "name": "stdout",
     "output_type": "stream",
     "text": [
      "Optimization terminated successfully.    (Exit mode 0)\n",
      "            Current function value: 27.957649649225772\n",
      "            Iterations: 25\n",
      "            Function evaluations: 483\n",
      "            Gradient evaluations: 25\n",
      "n=8. Solution found.\n",
      "Optimization terminated successfully.    (Exit mode 0)\n",
      "            Current function value: 27.989147156486275\n",
      "            Iterations: 22\n",
      "            Function evaluations: 370\n",
      "            Gradient evaluations: 22\n",
      "n=7. Solution found.\n",
      "Optimization terminated successfully.    (Exit mode 0)\n",
      "            Current function value: 28.137543968086376\n",
      "            Iterations: 19\n",
      "            Function evaluations: 273\n",
      "            Gradient evaluations: 18\n",
      "n=6. Solution found.\n",
      "Optimization terminated successfully.    (Exit mode 0)\n",
      "            Current function value: 29.220083808931232\n",
      "            Iterations: 13\n",
      "            Function evaluations: 167\n",
      "            Gradient evaluations: 13\n",
      "n=5. Solution found.\n",
      "Positive directional derivative for linesearch    (Exit mode 8)\n",
      "            Current function value: 29.136602036785156\n",
      "            Iterations: 12\n",
      "            Function evaluations: 83\n",
      "            Gradient evaluations: 8\n",
      "n_min=5. Returning solution.\n",
      "Optimization terminated successfully.    (Exit mode 0)\n",
      "            Current function value: 29.220083808931232\n",
      "            Iterations: 13\n",
      "            Function evaluations: 167\n",
      "            Gradient evaluations: 13\n"
     ]
    },
    {
     "data": {
      "image/png": "[encoded data removed]",
      "text/plain": [
       "<matplotlib.figure.Figure at 0x11614ddd8>"
      ]
     },
     "metadata": {},
     "output_type": "display_data"
    }
   ],
   "source": [
    "# Set up input state\n",
    "\n",
    "x_AB = [0,1]\n",
    "P_AB = [1,0]\n",
    "dP_AB = [0,-1.05] \n",
    "m_AB = [0,1.6]\n",
    "\n",
    "n_max = 8\n",
    "# Perform the optimization\n",
    "\n",
    "x1, P1, dP1, m21, rho1, f_min, n_min = opt_inter_dyn_min(n_max, x_AB, P_AB, dP_AB, m_AB)\n",
    "\n",
    "plot_data(x1, P1, dP1, m21, rho1)"
   ]
  },
  {
   "cell_type": "code",
   "execution_count": 99,
   "metadata": {},
   "outputs": [
    {
     "name": "stdout",
     "output_type": "stream",
     "text": [
      "Positive directional derivative for linesearch    (Exit mode 8)\n",
      "            Current function value: 29.807234952924887\n",
      "            Iterations: 69\n",
      "            Function evaluations: 1344\n",
      "            Gradient evaluations: 65\n",
      "No min found.\n",
      "n=6. x is none. Continue searching.\n",
      "Positive directional derivative for linesearch    (Exit mode 8)\n",
      "            Current function value: 31.880939663461387\n",
      "            Iterations: 33\n",
      "            Function evaluations: 452\n",
      "            Gradient evaluations: 29\n",
      "No min found.\n",
      "n=5. x is none. Continue searching.\n",
      "Optimization terminated successfully.    (Exit mode 0)\n",
      "            Current function value: 33.164348309888\n",
      "            Iterations: 12\n",
      "            Function evaluations: 153\n",
      "            Gradient evaluations: 12\n",
      "n=4. Solution found.\n",
      "Optimization terminated successfully.    (Exit mode 0)\n",
      "            Current function value: 35.17776943025048\n",
      "            Iterations: 3\n",
      "            Function evaluations: 24\n",
      "            Gradient evaluations: 3\n",
      "n=3. Solution found at n_min.\n"
     ]
    },
    {
     "data": {
      "image/png": "[encoded data removed]",
      "text/plain": [
       "<matplotlib.figure.Figure at 0x15120819b0>"
      ]
     },
     "metadata": {},
     "output_type": "display_data"
    }
   ],
   "source": [
    "# Set up input state\n",
    "\n",
    "x_AB = [0,1]\n",
    "P_AB = [1,0]\n",
    "dP_AB = [0,-1.1] \n",
    "m_AB = [0,1.6]\n",
    "\n",
    "n_max = 6\n",
    "# Perform the optimization\n",
    "\n",
    "x1, P1, dP1, m21, rho1 = opt_inter_dyn_min(n_max, x_AB, P_AB, dP_AB, m_AB)\n",
    "\n",
    "plot_data(x1, P1, dP1, m21, rho1)"
   ]
  },
  {
   "cell_type": "markdown",
   "metadata": {},
   "source": [
    "Why does this pressure gradient + mass combo not return solutions for n>4? I thought that, if n=3, then n->infinity. Why is this not the case? \n",
    "\n",
    "Is it that, once n=3 is the best fit, the error from n>3 begins to compound because it's all at machine precision? Basically, p(n,x) reaches a maximum closeness to f(x) at a particular n, bounded by polynomial accuracy from one side, and by machine precision noise from the other side."
   ]
  },
  {
   "cell_type": "markdown",
   "metadata": {},
   "source": [
    "eta=1"
   ]
  },
  {
   "cell_type": "markdown",
   "metadata": {},
   "source": [
    "to do: \n",
    "    1. write polytrope solver\n",
    "    2. clean interpolation code, have test n until finds solution\n",
    "    4. Next meeting Friday (6/14) at 11am"
   ]
  },
  {
   "cell_type": "code",
   "execution_count": 107,
   "metadata": {},
   "outputs": [
    {
     "name": "stdout",
     "output_type": "stream",
     "text": [
      "Optimization terminated successfully.    (Exit mode 0)\n",
      "            Current function value: 21.0428430597943\n",
      "            Iterations: 32\n",
      "            Function evaluations: 738\n",
      "            Gradient evaluations: 32\n",
      "Optimization terminated successfully.    (Exit mode 0)\n",
      "            Current function value: 21.045947976262372\n",
      "            Iterations: 28\n",
      "            Function evaluations: 593\n",
      "            Gradient evaluations: 28\n",
      "min func value =  21.0428430597943\n",
      "num points =  10\n",
      "Optimization terminated successfully.    (Exit mode 0)\n",
      "            Current function value: 21.0428430597943\n",
      "            Iterations: 32\n",
      "            Function evaluations: 738\n",
      "            Gradient evaluations: 32\n"
     ]
    },
    {
     "data": {
      "image/png": "[encoded data removed]",
      "text/plain": [
       "<matplotlib.figure.Figure at 0x1512550390>"
      ]
     },
     "metadata": {},
     "output_type": "display_data"
    }
   ],
   "source": [
    "x_AB = [0,1]\n",
    "P_AB = [1,0]\n",
    "dP_AB = [0,0.0] # -0.02\n",
    "m_AB = [0,2.4]\n",
    "\n",
    "n_max = 10\n",
    "# Perform the optimization\n",
    "\n",
    "x1, P1, dP1, m21, rho1 = opt_inter_dyn_max(n_max, x_AB, P_AB, dP_AB, m_AB)\n",
    "\n",
    "plot_data(x1, P1, dP1, m21, rho1)"
   ]
  },
  {
   "cell_type": "markdown",
   "metadata": {},
   "source": [
    "### Maximum and minimum masses for n=3"
   ]
  },
  {
   "cell_type": "code",
   "execution_count": 78,
   "metadata": {
    "scrolled": false
   },
   "outputs": [
    {
     "name": "stdout",
     "output_type": "stream",
     "text": [
      "Optimization terminated successfully.    (Exit mode 0)\n",
      "            Current function value: 92.78974119162432\n",
      "            Iterations: 3\n",
      "            Function evaluations: 24\n",
      "            Gradient evaluations: 3\n"
     ]
    },
    {
     "data": {
      "image/png": "[encoded data removed]",
      "text/plain": [
       "<matplotlib.figure.Figure at 0x115a29080>"
      ]
     },
     "metadata": {},
     "output_type": "display_data"
    }
   ],
   "source": [
    "# Set up input state\n",
    "\n",
    "x_AB = [0,1]\n",
    "P_AB = [1,0]\n",
    "dP_AB = [0,-5.92] # -0.02\n",
    "m_AB = [0,3.9475] # 0.7775\n",
    "\n",
    "n = 3 # Note that n is now the *total* number of points, including endpoints\n",
    "\n",
    "# Perform the optimization\n",
    "\n",
    "x1, P1, dP1, m21, rho1, _, _ = opt_inter_fix(n, x_AB, P_AB, dP_AB, m_AB)\n",
    "\n",
    "plot_data(x1, P1, dP1, m21, rho1)\n"
   ]
  },
  {
   "cell_type": "code",
   "execution_count": 53,
   "metadata": {},
   "outputs": [
    {
     "name": "stdout",
     "output_type": "stream",
     "text": [
      "Optimization terminated successfully.    (Exit mode 0)\n",
      "            Current function value: 19.433619567307097\n",
      "            Iterations: 17\n",
      "            Function evaluations: 254\n",
      "            Gradient evaluations: 17\n"
     ]
    },
    {
     "data": {
      "image/png": "[encoded data removed]",
      "text/plain": [
       "<matplotlib.figure.Figure at 0x151a927550>"
      ]
     },
     "metadata": {},
     "output_type": "display_data"
    }
   ],
   "source": [
    "# Set up input state\n",
    "\n",
    "x_AB = [0,1]\n",
    "P_AB = [1,0]\n",
    "dP_AB = [0,0.0] # -0.02\n",
    "m_AB = [0,1.3] # 0.7775\n",
    "\n",
    "n = 6 # Note that n is now the *total* number of points, including endpoints\n",
    "\n",
    "# Perform the optimization\n",
    "\n",
    "#rho_func(x_AB, P_AB, dP_AB, m_AB[0]**2)\n",
    "\n",
    "x1, P1, dP1, m21, rho1, _,_ = opt_inter_fix(n, x_AB, P_AB, dP_AB, m_AB)\n",
    "\n",
    "plot_data(x1, P1, dP1, m21, rho1)"
   ]
  },
  {
   "cell_type": "markdown",
   "metadata": {},
   "source": [
    "( 2.25 - 0.9 )/ ( 2.6101 -0.7775 )"
   ]
  },
  {
   "cell_type": "markdown",
   "metadata": {
    "collapsed": true
   },
   "source": [
    "### Read in .mesa format model"
   ]
  },
  {
   "cell_type": "markdown",
   "metadata": {},
   "source": [
    "I'm using a $5 M_\\odot$ model at half the Sun's age ($x = 0.355$)"
   ]
  },
  {
   "cell_type": "code",
   "execution_count": 81,
   "metadata": {
    "collapsed": true
   },
   "outputs": [],
   "source": [
    "from astropy.io import ascii"
   ]
  },
  {
   "cell_type": "code",
   "execution_count": 82,
   "metadata": {
    "collapsed": true
   },
   "outputs": [],
   "source": [
    "model = ascii.read(\"test-model.mesa\", data_start=1)\n",
    "header = ascii.read(\"test-model.mesa\", data_end=1)"
   ]
  },
  {
   "cell_type": "code",
   "execution_count": 83,
   "metadata": {
    "collapsed": true
   },
   "outputs": [],
   "source": [
    "N_star = header['col1']    # number of grid points\n",
    "M_star = header['col2']    # /[g] , Msol = 1.98847542e33\n",
    "R_star = header['col3']    # /[cm] \n",
    "P_cntr = model['col5'][0]  # /[dyn cm^-2]\n",
    "dP_cntr = 0\n",
    "rho_avg = M_star/R_star**3 # /[g cm^-3]"
   ]
  },
  {
   "cell_type": "code",
   "execution_count": 84,
   "metadata": {},
   "outputs": [
    {
     "data": {
      "text/plain": [
       "2.3758304250700752e+17"
      ]
     },
     "execution_count": 84,
     "metadata": {},
     "output_type": "execute_result"
    }
   ],
   "source": [
    "P_cntr"
   ]
  },
  {
   "cell_type": "code",
   "execution_count": 85,
   "metadata": {},
   "outputs": [
    {
     "data": {
      "text/plain": [
       "71445678605.061646"
      ]
     },
     "execution_count": 85,
     "metadata": {},
     "output_type": "execute_result"
    }
   ],
   "source": [
    "model['col2'][-1]"
   ]
  },
  {
   "cell_type": "code",
   "execution_count": 86,
   "metadata": {},
   "outputs": [
    {
     "name": "stderr",
     "output_type": "stream",
     "text": [
      "/Users/TARS/anaconda3/lib/python3.6/site-packages/ipykernel_launcher.py:7: RuntimeWarning: invalid value encountered in true_divide\n",
      "  import sys\n"
     ]
    }
   ],
   "source": [
    "x_mod = model['col2'] #* (scale/R_star) \n",
    "P_mod = model['col5'] #* (scale/P_cntr) \n",
    "\n",
    "m_mod = model['col3'] #* (1/M_star) * scale**2 \n",
    "rho_mod = model['col7'] #/ rho_avg\n",
    "\n",
    "dP_mod = - (m_mod*rho_mod/x_mod**2) \n",
    "dP_mod[0] = 0\n",
    "\n",
    "#rmid = ( model['col2'][:-1] + np.diff(model['col2']) )"
   ]
  },
  {
   "cell_type": "code",
   "execution_count": 87,
   "metadata": {},
   "outputs": [
    {
     "data": {
      "text/html": [
       "&lt;Column name=&apos;col3&apos; dtype=&apos;float64&apos; length=2&gt;\n",
       "<table>\n",
       "<tr><td>0.0</td></tr>\n",
       "<tr><td>-6.32337876701e+12</td></tr>\n",
       "</table>"
      ],
      "text/plain": [
       "<Column name='col3' dtype='float64' length=2>\n",
       "               0.0\n",
       "-6.32337876701e+12"
      ]
     },
     "execution_count": 87,
     "metadata": {},
     "output_type": "execute_result"
    }
   ],
   "source": [
    "dP_mod[:2]"
   ]
  },
  {
   "cell_type": "code",
   "execution_count": 88,
   "metadata": {},
   "outputs": [
    {
     "data": {
      "text/plain": [
       "2.3758304250700752e+17"
      ]
     },
     "execution_count": 88,
     "metadata": {},
     "output_type": "execute_result"
    }
   ],
   "source": [
    "P_cntr"
   ]
  },
  {
   "cell_type": "code",
   "execution_count": 89,
   "metadata": {
    "scrolled": true
   },
   "outputs": [
    {
     "data": {
      "text/html": [
       "&lt;Column name=&apos;col5&apos; dtype=&apos;float64&apos; length=2&gt;\n",
       "<table>\n",
       "<tr><td>1.0</td></tr>\n",
       "<tr><td>0.999947702161</td></tr>\n",
       "</table>"
      ],
      "text/plain": [
       "<Column name='col5' dtype='float64' length=2>\n",
       "           1.0\n",
       "0.999947702161"
      ]
     },
     "execution_count": 89,
     "metadata": {},
     "output_type": "execute_result"
    }
   ],
   "source": [
    "P_mod[:2]/P_cntr # - P_mod[:2][-1]"
   ]
  },
  {
   "cell_type": "code",
   "execution_count": 90,
   "metadata": {},
   "outputs": [
    {
     "data": {
      "text/html": [
       "&lt;Column name=&apos;col2&apos; dtype=&apos;float64&apos; length=2&gt;\n",
       "<table>\n",
       "<tr><td>0.0</td></tr>\n",
       "<tr><td>61942314.973</td></tr>\n",
       "</table>"
      ],
      "text/plain": [
       "<Column name='col2' dtype='float64' length=2>\n",
       "         0.0\n",
       "61942314.973"
      ]
     },
     "execution_count": 90,
     "metadata": {},
     "output_type": "execute_result"
    }
   ],
   "source": [
    "x_mod[:2]"
   ]
  },
  {
   "cell_type": "code",
   "execution_count": 100,
   "metadata": {},
   "outputs": [
    {
     "data": {
      "text/plain": [
       "[<matplotlib.lines.Line2D at 0x10bc055f8>]"
      ]
     },
     "execution_count": 100,
     "metadata": {},
     "output_type": "execute_result"
    },
    {
     "data": {
      "image/png": "[encoded data removed]",
      "text/plain": [
       "<matplotlib.figure.Figure at 0x151b52b940>"
      ]
     },
     "metadata": {},
     "output_type": "display_data"
    }
   ],
   "source": [
    "plt.plot(x_mod, P_mod )"
   ]
  },
  {
   "cell_type": "code",
   "execution_count": 91,
   "metadata": {},
   "outputs": [
    {
     "data": {
      "text/plain": [
       "[<matplotlib.lines.Line2D at 0x151b7922e8>]"
      ]
     },
     "execution_count": 91,
     "metadata": {},
     "output_type": "execute_result"
    },
    {
     "data": {
      "image/png": "[encoded data removed]",
      "text/plain": [
       "<matplotlib.figure.Figure at 0x151b6efb38>"
      ]
     },
     "metadata": {},
     "output_type": "display_data"
    }
   ],
   "source": [
    "plt.plot(x_mod[:3]*(N_star/R_star), (P_mod[:3] - P_mod[:3][-1])/(P_cntr - P_mod[:][-1]) )"
   ]
  },
  {
   "cell_type": "code",
   "execution_count": 105,
   "metadata": {},
   "outputs": [
    {
     "name": "stdout",
     "output_type": "stream",
     "text": [
      "Singular matrix C in LSQ subproblem    (Exit mode 6)\n",
      "            Current function value: 0.0020134918425014883\n",
      "            Iterations: 1\n",
      "            Function evaluations: 8\n",
      "            Gradient evaluations: 1\n",
      "Singular matrix C in LSQ subproblem    (Exit mode 6)\n",
      "            Current function value: 0.004530356645628349\n",
      "            Iterations: 1\n",
      "            Function evaluations: 10\n",
      "            Gradient evaluations: 1\n",
      "Singular matrix C in LSQ subproblem    (Exit mode 6)\n",
      "            Current function value: 0.008053967370005955\n",
      "            Iterations: 1\n",
      "            Function evaluations: 12\n",
      "            Gradient evaluations: 1\n"
     ]
    }
   ],
   "source": [
    "# Set up input state\n",
    "\n",
    "x_AB = list( x_mod[0:2] )# *(N_star/R_star) )\n",
    "P_AB = list( P_mod[0:2] ) # - P_mod[:2][-1])/(P_cntr - P_mod[:2][-1]) ) #P_mod[0:2])\n",
    "dP_AB = list(dP_mod[0:2]) # /(P_cntr - P_mod[:2][-1]) \n",
    "m_AB = list(m_mod[0:2]) # * (N_star/R_star)**2/(P_cntr - P_mod[:2][-1])\n",
    "\n",
    "n = 5 # Note that n is now the *total* number of points, including endpoints\n",
    "\n",
    "#rho_func(x_AB, P_AB, dP_AB, m_AB[0]**2)\n",
    "\n",
    "#print('m_a = ', rho[0]*(4*np.pi/3)*(x[-1]**3 - x[0]**3))\n",
    "#print('m_int = ',np.sqrt(m2[1]) )\n",
    "#print('m_b = ', rho[-1]*(4*np.pi/3)*(x[-1]**3 - x[0]**3))\n",
    "\n",
    "# Perform the optimization\n",
    "\n",
    "x, P, dP, m2, rho = opt_inter_dyn(n, x_AB, P_AB, dP_AB, m_AB)\n",
    "\n",
    "#plot_data(x, P, dP, m2, rho)\n"
   ]
  },
  {
   "cell_type": "code",
   "execution_count": null,
   "metadata": {
    "collapsed": true
   },
   "outputs": [],
   "source": [
    "x_AB"
   ]
  },
  {
   "cell_type": "code",
   "execution_count": 436,
   "metadata": {},
   "outputs": [
    {
     "data": {
      "text/plain": [
       "array([ 0.        ,  0.00298016])"
      ]
     },
     "execution_count": 436,
     "metadata": {},
     "output_type": "execute_result"
    }
   ],
   "source": [
    "m_AB* (N_star/R_star)**2/(P_cntr - P_mod[:2][-1])"
   ]
  },
  {
   "cell_type": "code",
   "execution_count": 106,
   "metadata": {
    "collapsed": true
   },
   "outputs": [],
   "source": [
    "# Interval optimization routine for a dynamic number of interior points\n",
    "\n",
    "def opt_inter_dyn_max (n_max, x_AB, P_AB, dP_AB, m2_AB):\n",
    "    \n",
    "    # Loop over n until we find a solution, or an upper limit is reached\n",
    "    \n",
    "    n_upper = n_max\n",
    "    nrange = range(1+2, n_upper+1)[::-1]\n",
    "    \n",
    "    fmin = [0,0]\n",
    "    \n",
    "    for n in nrange:\n",
    "        \n",
    "        x, P, dP, m2, rho, fmin[0], _ = opt_inter_fix(n, x_AB, P_AB, dP_AB, m2_AB)\n",
    "        \n",
    "        # Check for completion\n",
    "        \n",
    "        if x is not None:\n",
    "            \n",
    "            if n==nrange[0]:\n",
    "                \n",
    "                # First solution, no other solution to check against. Continue optimizing.\n",
    "                \n",
    "                fmin[1] = fmin[0]\n",
    "                \n",
    "            elif n==nrange[-1]:\n",
    "                \n",
    "                # Last solution, no optimum found. Return this best solution.\n",
    "                \n",
    "                print('Max n was best n. Re-attempt higher n.')\n",
    "                return x, P, dP, m2, rho\n",
    "                \n",
    "            else:\n",
    "                \n",
    "                if fmin[0] < fmin[1]:\n",
    "                    \n",
    "                    # If current solution less than previous solution, good. Continue optimizing.\n",
    "                    \n",
    "                    fmin[1] = fmin[0]\n",
    "                \n",
    "                else:\n",
    "                    \n",
    "                    # If current solution greater than previous, the previous was optimal.\n",
    "                    \n",
    "                    print(\"min func value = \",fmin[1])\n",
    "                    print(\"num points = \", n+1)\n",
    "                    \n",
    "                    x, P, dP, m2, rho, _, _ = opt_inter_fix(n+1, x_AB, P_AB, dP_AB, m2_AB)\n",
    "    \n",
    "                    return x, P, dP, m2, rho\n",
    "        \n",
    "        else:\n",
    "            print('x is none.')\n",
    "        \n",
    "    # Return a null result\n",
    "    \n",
    "    return None, None, None, None, None"
   ]
  },
  {
   "cell_type": "code",
   "execution_count": null,
   "metadata": {
    "collapsed": true
   },
   "outputs": [],
   "source": []
  }
 ],
 "metadata": {
  "kernelspec": {
   "display_name": "Python 3",
   "language": "python",
   "name": "python3"
  },
  "language_info": {
   "codemirror_mode": {
    "name": "ipython",
    "version": 3
   },
   "file_extension": ".py",
   "mimetype": "text/x-python",
   "name": "python",
   "nbconvert_exporter": "python",
   "pygments_lexer": "ipython3",
   "version": "3.6.4"
  }
 },
 "nbformat": 4,
 "nbformat_minor": 2
}
